{
 "cells": [
  {
   "cell_type": "code",
   "execution_count": 1,
   "metadata": {},
   "outputs": [],
   "source": [
    "import requests\n",
    "from bs4 import BeautifulSoup"
   ]
  },
  {
   "cell_type": "markdown",
   "metadata": {},
   "source": [
    "#### 다음 뉴스 데이터 추출"
   ]
  },
  {
   "cell_type": "code",
   "execution_count": 2,
   "metadata": {},
   "outputs": [
    {
     "data": {
      "text/plain": [
       "'<!doctype html>\\n<html lang=\"ko\"> \\n <head data-cloud-area=\"head\"> \\n  <meta charset=\"utf-8\"> \\n  <meta http-equiv=\"X-UA-Compatible\" content=\"IE=edge\"> \\n  <style>\\n            @import url(\\'//t1.daumcdn.net/harmony_static/cloud/page/2f26b69d665ac52111967f49ade3fa13af1e56c1.css\\');\\n            @import url(\\'//t1.daumcdn.net/harmony_static/cloud/2021/03/12/common.fa8fe96e8d65011e57eb.css\\')\\n        </style> \\n  <style>\\n            /* 다음 카페 소셜 쉐어 임시 비활성화 */\\n            .list_sns li:nth-child(6) {\\n                display: none;\\n            }\\n        </style> \\n  <meta property=\"mccp:docId\" content=\"cdyIadIm96\"> \\n  <meta property=\"og:site_name\" content=\"다음뉴스\"> \\n  <meta property=\"og:title\" content=\"충북서 15명 확진..목욕탕·학원·교회 곳곳서 연쇄감염 속출\"> \\n  <meta property=\"og:regDate\" content=\"20210327181307\"> \\n  <meta property=\"og:type\" content=\"article\"> \\n  <meta property=\"og:url\" content=\"https://news.v.daum.net/v/cdyIadIm96\"> \\n  <meta property=\"og:image\" content=\"https://img1.daumcdn.net/thumb/S1200x630/?fname=https://t1.daumcdn.net/news/202103/27/yonhap/20210327181307369mtfq.jpg\"> \\n  <meta property=\"og:image:width\" content=\"1200\"> \\n  <meta property=\"og:image:height\" content=\"630\"> \\n  <meta property=\"og:description\" content=\"(청주=연합뉴스) 천경환 기자 = 27일 충북에서 신종 코로나바이러스 감염증(코로나19) 확진자 15명이 발생했다. 충북도 등에 따르면 전날 밤부터 이날 오후 6시까지 청주 7명, 제천 3명, 충주·증평·진천·음성·괴산에서 각각 1명이 코로나19 확진 판정을 받았다. 청주 확진자 7명 중 2명은 지난 24일 집단감염이 발생한 남자 핸드볼선수단 SK호크스 관\"> \\n  <meta property=\"al:android:url\" content=\"daumapps://web?url=https%3A%2F%2Fnews.v.daum.net/v/cdyIadIm96\"> \\n  <meta property=\"al:android:package\" content=\"net.daum.android.daum\"> \\n  <meta property=\"al:android:app_name\" content=\"다음앱\"> \\n  <meta property=\"al:ios:url\" content=\"daumapps://web?url=https%3A%2F%2Fnews.v.daum.net/v/cdyIadIm96\"> \\n  <meta property=\"al:ios:app_store_id\" content=\"365494029\"> \\n  <meta property=\"al:ios:app_name\" content=\"다음앱\"> \\n  <meta property=\"twitter:card\" content=\"summary_large_image\"> \\n  <meta property=\"twitter:app:url:googleplay\" content=\"daumapps://web?url=https%3A%2F%2Fnews.v.daum.net/v/cdyIadIm96\"> \\n  <meta property=\"twitter:app:id:googleplay\" content=\"net.daum.android.daum\"> \\n  <meta property=\"twitter:app:name:googleplay\" content=\"다음앱\"> \\n  <meta property=\"twitter:app:country\" content=\"KR\"> \\n  <meta property=\"twitter:app:url:iphone\" content=\"daumapps://web?url=https%3A%2F%2Fnews.v.daum.net/v/cdyIadIm96\"> \\n  <meta property=\"twitter:app:id:iphone\" content=\"365494029\"> \\n  <meta property=\"twitter:app:name:iphone\" content=\"다음앱\"> \\n  <meta property=\"twitter:app:url:ipad\" content=\"daumapps://web?url=https%3A%2F%2Fnews.v.daum.net/v/cdyIadIm96\"> \\n  <meta property=\"twitter:app:id:ipad\" content=\"365494029\"> \\n  <meta property=\"twitter:app:name:ipad\" content=\"다음앱\"> \\n  <meta name=\"referrer\" content=\"always\"> \\n  <title>충북서 15명 확진..목욕탕·학원·교회 곳곳서 연쇄감염 속출</title> \\n  <link rel=\"shortcut icon\" href=\"//m2.daumcdn.net/img-media/2010ci/Daum_favicon.ico\"> \\n </head> \\n <body class=\"\">      \\n  <div id=\"kakaoIndex\"> <a href=\"#kakaoBody\">본문 바로가기</a> <a href=\"#kakaoGnb\">메뉴 바로가기</a> \\n  </div> \\n  <div id=\"kakaoWrap\" class=\"newsview_media\"> \\n   <div id=\"wrapMinidaum\"></div> \\n   <div id=\"kakaoHead\" role=\"banner\" data-cloud-area=\"header\"> \\n    <div class=\"head_media\" data-cloud=\"pc_header_gnb\"> \\n     <h1> <a href=\"https://www.daum.net\" class=\"link_daum\"> <img src=\"//t1.daumcdn.net/media/news/news2016/retina/logo_daum.jpg\" width=\"45\" height=\"19\" class=\"thumb_g\" alt=\"Daum\"> </a> <a href=\"//news.daum.net\" id=\"kakaoServiceLogo\"><span class=\"ir_wa\">뉴스</span></a> </h1> <strong class=\"screen_out\">관련서비스</strong> \\n     <ul id=\"kakaoRelServices\"> \\n      <li><a href=\"https://entertain.daum.net/\" class=\"link_services link_services1\"><span class=\"ir_wa\">연예</span></a></li> \\n      <li><a href=\"https://sports.daum.net/\" class=\"link_services link_services2\"><span class=\"ir_wa\">스포츠</span></a></li> \\n     </ul> \\n     <h2 class=\"screen_out\">검색</h2> \\n     <div class=\"search_news\" id=\"search_news\"> \\n      <form id=\"kakaoSearch\" name=\"kakaoSearch\" action=\"https://search.daum.net/search\" method=\"get\"> \\n       <fieldset class=\"fld_inside\"> <legend class=\"screen_out\">검색어 입력폼</legend> \\n        <div class=\"box_searchbar\"> <label for=\"qVal\" class=\"lab_search\">통합검색</label> \\n         <input type=\"hidden\" name=\"nil_profile\" value=\"search\"> \\n         <input type=\"hidden\" name=\"nil_src\" value=\"media\"> \\n         <input type=\"hidden\" name=\"DA\" value=\"23A\"> \\n         <input type=\"hidden\" name=\"rtmaxcoll\" value=\"NNS\"> \\n         <input type=\"text\" class=\"tf_keyword\" id=\"qVal\" name=\"q\" value=\"\" title=\"검색어 입력\" autocomplete=\"off\" spellcheck=\"false\"> <button id=\"kakaoBtnSearch\" class=\"btn_search\" type=\"submit\"><span class=\"ir_wa\">검색</span></button> \\n        </div> \\n       </fieldset> \\n       <div id=\"wrap_suggestBox\" class=\"wrap_suggestBox\"> \\n        <div id=\"suggestBox\" class=\"suggestBox box_sub\"> \\n         <div class=\"baseBox bg\" style=\"display: none\"></div> \\n        </div> \\n       </div> \\n      </form> \\n     </div> \\n    </div> \\n    <div id=\"kakaoGnb\" role=\"navigation\" data-cloud=\"pc_header_gnb\"> \\n     <div class=\"inner_gnb\"> \\n      <h2 class=\"screen_out\">뉴스 메인메뉴</h2> \\n      <ul class=\"gnb_comm\" data-category=\"society\"> \\n       <li class=\"home\"><a href=\"//news.daum.net/\" class=\"link_gnb link_gnb1\"><span class=\"ir_wa\">홈</span><span class=\"bar_gnb\"><span class=\"inner_bar\"></span></span></a></li> \\n       <li class=\"society\"><a href=\"//news.daum.net/society/\" class=\"link_gnb link_gnb2\"><span class=\"ir_wa\">사회</span><span class=\"bar_gnb\"><span class=\"inner_bar\"></span></span></a></li> \\n       <li class=\"politics\"><a href=\"//news.daum.net/politics/\" class=\"link_gnb link_gnb3\"><span class=\"ir_wa\">정치</span><span class=\"bar_gnb\"><span class=\"inner_bar\"></span></span></a></li> \\n       <li class=\"economic\"><a href=\"//news.daum.net/economic/\" class=\"link_gnb link_gnb4\"><span class=\"ir_wa\">경제</span><span class=\"bar_gnb\"><span class=\"inner_bar\"></span></span></a></li> \\n       <li class=\"foreign\"><a href=\"//news.daum.net/foreign/\" class=\"link_gnb link_gnb5\"><span class=\"ir_wa\">국제</span><span class=\"bar_gnb\"><span class=\"inner_bar\"></span></span></a></li> \\n       <li class=\"culture\"><a href=\"//news.daum.net/culture/\" class=\"link_gnb link_gnb6\"><span class=\"ir_wa\">문화</span><span class=\"bar_gnb\"><span class=\"inner_bar\"></span></span></a></li> \\n       <li class=\"digital\"><a href=\"//news.daum.net/digital/\" class=\"link_gnb link_gnb7\"><span class=\"ir_wa\">IT</span><span class=\"bar_gnb\"><span class=\"inner_bar\"></span></span></a></li> \\n       <li class=\"popular\"><a href=\"//news.daum.net/ranking/popular\" class=\"link_gnb link_gnb8\"><span class=\"ir_wa\">랭킹</span><span class=\"bar_gnb\"><span class=\"inner_bar\"></span></span></a></li> \\n       <li class=\"series editorial\"><a href=\"//news.daum.net/series\" class=\"link_gnb link_gnb9\"><span class=\"ir_wa\">연재</span><span class=\"bar_gnb\"><span class=\"inner_bar\"></span></span></a></li> \\n       <li class=\"photo\"><a href=\"//news.daum.net/photo\" class=\"link_gnb link_gnb10\"><span class=\"ir_wa\">포토</span><span class=\"bar_gnb\"><span class=\"inner_bar\"></span></span></a></li> \\n       <li class=\"tv\"><a href=\"//news.daum.net/tv\" class=\"link_gnb link_gnb11\"><span class=\"ir_wa\">TV</span><span class=\"bar_gnb\"><span class=\"inner_bar\"></span></span></a></li> \\n      </ul> \\n      <div class=\"gnb_etc\"> \\n       <ul class=\"gnb_with\"> \\n        <li><a href=\"//news.daum.net/1boon\" class=\"link_gnb link_gnb1\"><span class=\"ir_wa\">1boon</span></a></li> \\n        <li><a href=\"//gallery.v.daum.net/p/home\" class=\"link_gnb link_gnb2\"><span class=\"ir_wa\">갤러리</span><span class=\"bar_gnb\"><span class=\"inner_bar\"></span></span></a></li> \\n       </ul>  \\n       <div class=\"gnb_weather\"> <strong class=\"screen_out\">날씨 정보</strong> \\n        <div id=\"gnb_weather\"> \\n         <ul class=\"list_weather\" data-nightyn=\"N\"></ul> \\n        </div> \\n       </div> \\n      </div> \\n     </div> \\n    </div> \\n    <div id=\"barProgress\" class=\"bar_progress\" data-cloud=\"pc_header_gnb\"></div>          \\n   </div> \\n   <div id=\"dummyKakaoGnb\" style=\"height:137px; display:none;\"></div> \\n   <hr class=\"hide\"> \\n   <div id=\"kakaoContent\" class=\"cont_view\" role=\"main\"> \\n    <h2 id=\"kakaoBody\" class=\"screen_out\">사회</h2> \\n    <div id=\"cSub\" data-cloud-area=\"title\"> \\n     <div class=\"head_view\" data-cloud=\"pc_article_title_and_util\"> <em class=\"info_cp\"> <a href=\"https://www.yna.co.kr/\" class=\"link_cp\" target=\"_blank\"> <img src=\"https://t1.daumcdn.net/media/news/news2016/cp/cp_yonhap.gif\" class=\"thumb_g\" alt=\"연합뉴스\"> </a> </em> \\n      <h3 class=\"tit_view\" data-translation=\"true\">충북서 15명 확진..목욕탕·학원·교회 곳곳서 연쇄감염 속출</h3> <span class=\"info_view\"> <span class=\"txt_info\">천경환</span> <span class=\"txt_info\">입력 <span class=\"num_date\">2021. 03. 27. 18:13</span></span> <button id=\"alexCounter\" class=\"emph_g2 link_cmt\">댓글 <span class=\"alex-count-area\">0</span>개</button> </span> \\n      <div class=\"util_view\"> \\n       <h4 class=\"screen_out\">기사 도구 모음</h4>  \\n       <div class=\"btn_util util_summary\"> <button type=\"button\" class=\"btn_summary\" aria-expanded=\"false\"><span class=\"ico_newsview\">자동요약</span></button> \\n        <div class=\"wrap_setlayer\"> \\n         <div class=\"layer_util layer_summary\"> \\n          <p>27일 충북에서 신종 코로나바이러스 감염증(코로나19) 확진자 15명이 발생했다.</p>\\n          <p>충북도 등에 따르면 전날 밤부터 이날 오후 6시까지 청주 7명, 제천 3명, 충주·증평·진천·음성·괴산에서 각각 1명이 코로나19 확진 판정을 받았다.</p>\\n          <p>기존 확진자의 접촉자인 20대도 이날 확진 판정을 받고, 전날 감염이 확인된 50대 요양보호사의 접촉자 2명도 확진됐다.</p>\\n          <p>증평과 괴산 확진자 2명은 전날 집단감염이 발생한 증평읍 소재 한 교회와 연관돼 있다.</p> <span class=\"info_summary\"><span class=\"ico_newsview\"></span>기사 제목과 주요 문장을 기반으로 자동요약한 결과입니다. 전체 맥락을 이해하기 위해서는 본문 보기를 권장합니다.</span> \\n         </div> \\n        </div> \\n       </div>  \\n       <div class=\"btn_util tts_btn\"> <button type=\"button\" class=\"btn_set btn_tts\" aria-expanded=\"false\"> <span class=\"ico_newsview ico_speak\">음성 기사 듣기</span> </button> \\n        <div class=\"wrap_setlayer\"> \\n         <div class=\"layer_util layer_set layer_tts\"> <strong class=\"screen_out\">음성 기사 옵션 조절 레이어</strong> \\n          <ul class=\"list_set list_tts\"> \\n           <li> <input type=\"radio\" id=\"ttsGenderMale\" name=\"ttsGender\" class=\"screen_out\" value=\"Male\"> <label class=\"lab_set\" for=\"ttsGenderMale\"><span class=\"ico_newsview\"></span>남성</label> </li> \\n           <li> <input type=\"radio\" id=\"ttsGenderFemale\" name=\"ttsGender\" class=\"screen_out\" value=\"Female\"> <label class=\"lab_set\" for=\"ttsGenderFemale\"><span class=\"ico_newsview\"></span>여성</label> </li> \\n          </ul> \\n          <ul class=\"list_set list_tts list_ttsspeed\"> \\n           <li> <input type=\"radio\" id=\"ttsSpeedSlow\" name=\"ttsSpeed\" class=\"screen_out\" value=\"slow\"> <label class=\"lab_set\" for=\"ttsSpeedSlow\"><span class=\"ico_newsview\"></span>느림</label> </li> \\n           <li> <input type=\"radio\" id=\"ttsSpeedNormal\" name=\"ttsSpeed\" class=\"screen_out\" value=\"normal\"> <label class=\"lab_set\" for=\"ttsSpeedNormal\"><span class=\"ico_newsview\"></span>보통</label> </li> \\n           <li> <input type=\"radio\" id=\"ttsSpeedFast\" name=\"ttsSpeed\" class=\"screen_out\" value=\"fast\"> <label class=\"lab_set\" for=\"ttsSpeedFast\"><span class=\"ico_newsview\"></span>빠름</label> </li> \\n          </ul> \\n         </div> \\n        </div> \\n        <audio style=\"display:none\" preload=\"none\" id=\"ttsPlayer\"></audio> \\n       </div>  \\n       <div class=\"btn_util translate_btn\"> <button type=\"button\" class=\"btn_set btn_translate #util #translate #set\" aria-expanded=\"false\"><span class=\"ico_newsview\">번역 설정</span></button> \\n        <div class=\"wrap_translatelayer\"> \\n         <div class=\"layer_util layer_translate\"> <strong class=\"tit_translate\">번역<span class=\"ico_newsview\">beta</span> </strong> \\n          <p class=\"desc_translate txt_newsview\">Translated by <a href=\"https://kakao.ai/\" target=\"_blank\" class=\"link_kakaoi #util #translate #kakaoi_link\">kakao i</a></p> <strong class=\"screen_out\">번역할 언어 선택</strong> \\n          <ul class=\"list_lang\"> \\n           <li> <button class=\"btn_lang btn_en #util #translate #lang_en\" name=\"en\"> <span class=\"ico_newsview ico_flag\"></span> <strong class=\"ico_newsview tit_lang\">English</strong> </button> </li> \\n           <li> <button type=\"button\" class=\"btn_lang btn_ch #util #translate #lang_cn\" name=\"cn\"> <span class=\"ico_newsview ico_flag\"></span> <strong class=\"ico_newsview tit_lang\">简体中文</strong> </button> </li> \\n           <li> <button type=\"button\" class=\"btn_lang btn_jp #util #translate #lang_jp\" name=\"jp\"> <span class=\"ico_newsview ico_flag\"></span> <strong class=\"ico_newsview tit_lang\">日本語</strong> </button> </li> \\n           <li> <button type=\"button\" class=\"btn_lang btn_ind #util #translate #lang_id\" name=\"id\"> <span class=\"ico_newsview ico_flag\"></span> <strong class=\"ico_newsview tit_lang\">Bahasa Indonesia</strong> </button> </li> \\n           <li> <button type=\"button\" class=\"btn_lang btn_viet #util #translate #lang_vi\" name=\"vi\"> <span class=\"ico_newsview ico_flag\"></span> <strong class=\"ico_newsview tit_lang\">tiếng Việt</strong> </button> </li> \\n           <li> <button type=\"button\" class=\"btn_lang btn_ko #util #translate #lang_kr\" name=\"kr\"> <span class=\"ico_newsview ico_flag\"></span> <strong class=\"ico_newsview tit_lang\">한국어</strong> </button> </li> \\n          </ul> \\n         </div> \\n        </div> \\n       </div>  \\n       <div class=\"btn_util share_btn\"> <button id=\"rSocialShareButton\" class=\"btn_set btn_share\" aria-expanded=\"false\"> <span class=\"ico_newsview\">공유</span> </button> \\n        <div id=\"rSocialShareLayerContainer\"></div>  \\n       </div>  \\n       <div class=\"btn_util font_btn\"> <button type=\"button\" class=\"btn_set btn_font\" aria-expanded=\"false\"> <span class=\"ico_newsview ico_font\">글씨크기 조절하기</span> </button> \\n        <div class=\"wrap_setlayer\"> \\n         <div class=\"layer_util layer_set layer_font\"> <strong class=\"screen_out\">글자 크기 조절 레이어</strong> \\n          <ul class=\"list_set list_font\"> \\n           <li> <input type=\"radio\" id=\"inpFont17\" name=\"inpFont\" class=\"screen_out\" value=\"17\"> <label class=\"lab_set lab_size0\" for=\"inpFont17\"> <span class=\"ico_newsview\"></span> <span aria-hidden=\"true\">가나다라마바사</span> <span class=\"screen_out\">매우 작은 폰트</span> </label> </li> \\n           <li> <input type=\"radio\" id=\"inpFont18\" name=\"inpFont\" class=\"screen_out\" value=\"18\"> <label class=\"lab_set lab_size1\" for=\"inpFont18\"> <span class=\"ico_newsview\"></span> <span aria-hidden=\"true\">가나다라마바사</span> <span class=\"screen_out\">작은 폰트</span> </label> </li> \\n           <li> <input type=\"radio\" id=\"inpFont19\" name=\"inpFont\" class=\"screen_out\" value=\"19\"> <label class=\"lab_set lab_size2\" for=\"inpFont19\"> <span class=\"ico_newsview\"></span> <span aria-hidden=\"true\">가나다라마바사</span> <span class=\"screen_out\">보통 폰트</span> </label> </li> \\n           <li> <input type=\"radio\" id=\"inpFont20\" name=\"inpFont\" class=\"screen_out\" value=\"20\"> <label class=\"lab_set lab_size3\" for=\"inpFont20\"> <span class=\"ico_newsview\"></span> <span aria-hidden=\"true\">가나다라마바사</span> <span class=\"screen_out\">큰 폰트</span> </label> </li> \\n           <li> <input type=\"radio\" id=\"inpFont21\" name=\"inpFont\" class=\"screen_out\" value=\"21\"> <label class=\"lab_set lab_size4\" for=\"inpFont21\"> <span class=\"ico_newsview\"></span> <span aria-hidden=\"true\">가나다라마바사</span> <span class=\"screen_out\">매우 큰 폰트</span> </label> </li> \\n          </ul> \\n         </div> \\n        </div> \\n       </div>  \\n       <div class=\"btn_util\"> <button type=\"button\" class=\"btn_print\"><span class=\"ico_newsview\">인쇄하기 새창열림</span></button> \\n       </div> \\n      </div> \\n     </div>               \\n    </div> \\n    <div id=\"cMain\"> \\n     <div id=\"mArticle\"> \\n      <div data-cloud-area=\"article\">   \\n       <div id=\"translateNotice\" class=\"status_view\" style=\"display:none;\" data-cloud=\"pc_article_body\"> <span class=\"notice_lang notice_lang_en\" style=\"display:none;\">The copyright belongs to the original writer of the content, and there may be errors in machine translation results.</span> <span class=\"notice_lang notice_lang_cn\" style=\"display:none;\">版权归内容原作者所有。机器翻译结果可能存在错误。</span> <span class=\"notice_lang notice_lang_jp\" style=\"display:none;\">原文の著作権は原著著作者にあり、機械翻訳の結果にエラーが含まれることがあります。</span> <span class=\"notice_lang notice_lang_id\" style=\"display:none;\">Hak cipta milik penulis asli dari konten, dan mungkin ditemukan kesalahan dalam hasil terjemahan mesin.</span> <span class=\"notice_lang notice_lang_vi\" style=\"display:none;\">Bản quyền thuộc về tác giả gốc của nội dung và có thể có lỗi trong kết quả dịch bằng máy.</span> \\n       </div>  \\n       <div class=\"news_view\" style=\"font-size:17px\" data-cloud=\"pc_article_body\"> \\n        <div id=\"harmonyContainer\" class=\"article_view\" data-translation-body=\"true\"> \\n         <section dmcf-sid=\"cfaK10JhzS\">\\n          <figure class=\"figure_frm origin_fig\" dmcf-pid=\"c46CcB1Ob9\" dmcf-ptype=\"figure\">\\n           <p class=\"link_figure\"><img alt=\"증평스포츠센터에 설치된 선별진료소 (증평=연합뉴스) 27일 오후 충북 증평군 증평스포츠센터에 차려진 이동식 선별진료소에서 시민들이 검체 검사를 받기 위해 줄을 서 있다. 2021.3.27 [증평군 제공. 재판매 및 DB 금지]\" class=\"thumb_g_article\" data-org-src=\"https://t1.daumcdn.net/news/202103/27/yonhap/20210327181307369mtfq.jpg\" data-org-width=\"500\" dmcf-mid=\"csVS3GeqCE\" dmcf-mtype=\"image\" height=\"auto\" src=\"https://img4.daumcdn.net/thumb/R658x0.q70/?fname=https://t1.daumcdn.net/news/202103/27/yonhap/20210327181307369mtfq.jpg\" width=\"658\"></p>\\n           <figcaption class=\"txt_caption default_figure\">\\n            증평스포츠센터에 설치된 선별진료소 (증평=연합뉴스) 27일 오후 충북 증평군 증평스포츠센터에 차려진 이동식 선별진료소에서 시민들이 검체 검사를 받기 위해 줄을 서 있다. 2021.3.27 [증평군 제공. 재판매 및 DB 금지]\\n           </figcaption>\\n          </figure>\\n          <p dmcf-pid=\"cztVxCCxMA\" dmcf-ptype=\"general\">(청주=연합뉴스) 천경환 기자 = 27일 충북에서 신종 코로나바이러스 감염증(코로나19) 확진자 15명이 발생했다.</p>\\n          <p dmcf-pid=\"cnNJcX1qyJ\" dmcf-ptype=\"general\">충북도 등에 따르면 전날 밤부터 이날 오후 6시까지 청주 7명, 제천 3명, 충주·증평·진천·음성·괴산에서 각각 1명이 코로나19 확진 판정을 받았다.</p>\\n          <p dmcf-pid=\"cqoObzgZmW\" dmcf-ptype=\"general\">청주 확진자 7명 중 2명은 지난 24일 집단감염이 발생한 남자 핸드볼선수단 SK호크스 관련 감염 사례다. </p>\\n          <p dmcf-pid=\"ciOh2Wrgzd\" dmcf-ptype=\"general\">기존 확진자의 접촉자인 20대도 이날 확진 판정을 받고, 전날 감염이 확인된 50대 요양보호사의 접촉자 2명도 확진됐다. </p>\\n          <p dmcf-pid=\"cLzOPFCUbO\" dmcf-ptype=\"general\">전날 양성 판정을 받은 고교생과 같은 학원에 다니는 2명도 이날 양성으로 나타났다.</p>\\n          <p dmcf-pid=\"cLvUMxqry5\" dmcf-ptype=\"general\">진천 확진자 또한 이 고교생과 같은 학원에 다니는 40대 강사다. </p>\\n          <p dmcf-pid=\"ceBfd3eyxF\" dmcf-ptype=\"general\">제천에서는 삼성목욕탕 관련 확진자와 접촉한 30대 A씨의 감염 사실이 확인됐다. </p>\\n          <p dmcf-pid=\"cqdxOUTjKQ\" dmcf-ptype=\"general\">A씨는 자가격리 해제 전 검사에서 양성판정을 받았다. 나머지 확진자 2명은 A씨의 가족이다.</p>\\n          <p dmcf-pid=\"caoCQhvWTk\" dmcf-ptype=\"general\">방역당국은 이들이 한 집에 머물면서 자가격리 수칙을 위반하지 않았는지를 조사하고 있다.</p>\\n          <p dmcf-pid=\"cIXBwdRHhj\" dmcf-ptype=\"general\">증평과 괴산 확진자 2명은 전날 집단감염이 발생한 증평읍 소재 한 교회와 연관돼 있다. </p>\\n          <p dmcf-pid=\"cvbj23fYgg\" dmcf-ptype=\"general\">이 교회에서는 지난 25일 20대 신도가 확진된 뒤 이튿날 그의 가족 3명을 포함, 25명이 무더기 감염됐다.</p>\\n          <p dmcf-pid=\"cyxXxRknQ4\" dmcf-ptype=\"general\">이 교회 관련 확진자는 사흘 새 28명으로 늘었다.</p>\\n          <p dmcf-pid=\"cs02P9qR2J\" dmcf-ptype=\"general\">음성에서는 전날 선별진료소를 찾아 확진 판정을 받은 50대의 접촉자가 확진됐다.</p>\\n          <p dmcf-pid=\"ccpqj9alT0\" dmcf-ptype=\"general\">충주 확진자 1명은 다른 지역 확진자의 접촉자로 분류돼 자가격리 중 코로나19 의심 증상이 나타나 검사를 받은 뒤 확진됐다.</p>\\n          <p dmcf-pid=\"cT3PY8Guov\" dmcf-ptype=\"general\">이날 오후 6시 기준 충북지역 코로나19 누적 확진자는 2천128명이다.</p>\\n          <p dmcf-pid=\"ctJfzWMRs2\" dmcf-ptype=\"general\">kw@yna.co.kr</p>\\n          <dl dmcf-pid=\"cZDOQDm8C7\" dmcf-ptype=\"general\">\\n           <dt></dt>\\n          </dl>\\n         </section> \\n         <p data-translation=\"true\">저작권자(c)연합뉴스. 무단전재-재배포금지</p> \\n        </div> \\n       </div>  \\n      </div> \\n      <div class=\"foot_view\" data-cloud-area=\"addition\"> \\n       <div class=\"emotion_wrap\" data-cloud=\"alex_action_emotion\"> \\n        <div class=\"emotion_tit\"> <strong class=\"tit_emotion\">이 기사에 대해 어떻게 생각하시나요?</strong> \\n        </div> \\n        <div class=\"emotion_list\"> \\n         <div class=\"alex-action\" data-selections=\"RECOMMEND,LIKE,IMPRESS,ANGRY,SAD\" data-client-id=\"26BXAvKny5WF5Z09lr5k77Y8\" data-item-key=\"20210327181307263\" data-action-mode=\"REACTION\" data-on-select-animation-type=\"EXPAND\" data-message-channel=\"alex-action-reactions\"> \\n         </div> \\n        </div> \\n       </div>  \\n       <div class=\"relate_series hide\" data-cloud=\"pc_news_cluster\"> <strong class=\"tit_series\"> <em class=\"tag_series\">연재</em> <span class=\"title_series\"></span> </strong> \\n        <ul class=\"list_series\"></ul> <a href=\"#none\" class=\"link_more\">더보기</a> \\n       </div>   \\n       <div class=\"cp_view\" data-cloud=\"pc_related_news\"> \\n        <div class=\"cp_tit\"> \\n         <h3 class=\"tit_cp\">연합뉴스 주요 뉴스</h3> \\n         <p class=\"info_cp\">해당 언론사로 연결됩니다.</p> \\n        </div> \\n        <ul class=\"list_relate\"> \\n         <li><a href=\"http://yna.kr/AKR20210327052300104?input=feed_daum\" title=\"침대 밑 6시간 기다린 인도 남성, 아내 불륜남 흉기살해 | 연합뉴스\" class=\"link_txt\" target=\"_blank\" data-type=\"rss\">침대 밑 6시간 기다린 인도 남성, 아내 불륜남 흉기살해 | 연합뉴스</a></li> \\n         <li><a href=\"http://yna.kr/AKR20210327057300005?input=feed_daum\" title=\"박계옥 작가 &quot;역사왜곡 상처 남긴 점 뼈에 새길 것&quot; | 연합뉴스\" class=\"link_txt\" target=\"_blank\" data-type=\"rss\">박계옥 작가 \"역사왜곡 상처 남긴 점 뼈에 새길 것\" | 연합뉴스</a></li> \\n         <li><a href=\"http://yna.kr/AKR20210327050400053?input=feed_daum\" title=\"구미 사라진 아기 아빠 &quot;신생아 팔찌 끊어져 있었다&quot; 증언 | 연합뉴스\" class=\"link_txt\" target=\"_blank\" data-type=\"rss\">구미 사라진 아기 아빠 \"신생아 팔찌 끊어져 있었다\" 증언 | 연합뉴스</a></li> \\n         <li><a href=\"http://yna.kr/AKR20210326138300704?input=feed_daum\" title=\"노인 배에서 나온 18ｍ 기생충…원인은 쇠고기의 이것?[영상] | 연합뉴스\" class=\"link_txt\" target=\"_blank\" data-type=\"rss\">노인 배에서 나온 18ｍ 기생충…원인은 쇠고기의 이것?[영상] | 연합뉴스</a></li> \\n         <li><a href=\"http://yna.kr/AKR20210327018651104?input=feed_daum\" title=\"신태용, 에어앰뷸런스로 귀국…&quot;코로나는 완치, 지병 치료 필요&quot;(종합) | 연합뉴스\" class=\"link_txt\" target=\"_blank\" data-type=\"rss\">신태용, 에어앰뷸런스로 귀국…\"코로나는 완치, 지병 치료 필요\"(종합) | 연합뉴스</a></li> \\n         <li><a href=\"http://yna.kr/AKR20210326119100004?input=feed_daum\" title=\"노모 살해 후 자수 형량 검색…조현병 40대 징역 10년 | 연합뉴스\" class=\"link_txt\" target=\"_blank\" data-type=\"rss\">노모 살해 후 자수 형량 검색…조현병 40대 징역 10년 | 연합뉴스</a></li> \\n         <li><a href=\"http://yna.kr/AKR20210327026252005?input=feed_daum\" title=\"\\'조선구마사\\' 폐지 후에도 여진…PD·배우 잇따라 사과(종합2보) | 연합뉴스\" class=\"link_txt\" target=\"_blank\" data-type=\"rss\">\\'조선구마사\\' 폐지 후에도 여진…PD·배우 잇따라 사과(종합2보) | 연합뉴스</a></li> \\n         <li><a href=\"http://yna.kr/AKR20210327030000060?input=feed_daum\" title=\"\\'산책 중 실종\\' 고양 발달장애인 추정 시신 한강서 발견(종합) | 연합뉴스\" class=\"link_txt\" target=\"_blank\" data-type=\"rss\">\\'산책 중 실종\\' 고양 발달장애인 추정 시신 한강서 발견(종합) | 연합뉴스</a></li> \\n         <li><a href=\"http://yna.kr/AKR20210327041800005?input=feed_daum\" title=\"예능·드라마 연이은 성희롱 논란…&quot;시청자 잣대 엄격해져&quot; | 연합뉴스\" class=\"link_txt\" target=\"_blank\" data-type=\"rss\">예능·드라마 연이은 성희롱 논란…\"시청자 잣대 엄격해져\" | 연합뉴스</a></li> \\n         <li><a href=\"http://yna.kr/AKR20210327000900080?input=feed_daum\" title=\"&quot;러 핵잠수함 3척, 1.5m 북극해 얼음 깨고 동시에 수면위 상승&quot; | 연합뉴스\" class=\"link_txt\" target=\"_blank\" data-type=\"rss\">\"러 핵잠수함 3척, 1.5m 북극해 얼음 깨고 동시에 수면위 상승\" | 연합뉴스</a></li> \\n        </ul> \\n       </div> \\n       <div id=\"alex-scroll-area\" data-cloud=\"pc_article_bottom_ad\"></div> \\n       <ins class=\"kakao_ad_area recomm_ad\" style=\"display:block; width: 658px; text-decoration: none; min-width: 658px;\" data-ad-unit=\"DAN-1jezdswwiit7q\" data-ad-width=\"658\" data-ad-height=\"90\" data-ad-onfail=\"cmRenderFailCallBack\" data-cloud=\"pc_article_bottom_ad\"> </ins>  \\n       <div class=\"cmt_news cmt_view\" data-cloud=\"pc_comment\"> \\n        <div id=\"newsviewNotice\" class=\"news_notice\"></div>  \\n        <div id=\"alex-area\" class=\"alex-area\" data-base-url=\"//comment.daum.net\" data-post-id=\"@20210327181307263\" data-client-id=\"26BXAvKny5WF5Z09lr5k77Y8\" data-kakao-appkey=\"9076ba452fea1a434141d6b6a2c11a3c\" data-initial-limit=\"3\" data-page-limit=\"10\" data-sort=\"P\" data-use-my=\"true\" data-max-length=\"300\" data-use-reply=\"true\" data-use-official=\"true\" data-use-emoticon=\"true\" data-use-social-share=\"true\" data-use-attachment=\"false\" data-is-mobile=\"false\" data-show-mask-alert=\"true\" data-use-live-comment-mode=\"notify\" data-use-fold=\"true\" data-use-skin=\"newsView\" data-use-safebot=\"true\"> \\n        </div>    \\n       </div> \\n      </div> \\n     </div> \\n     <div id=\"mAside\" data-cloud-area=\"aside\"> \\n      <ins style=\"display:block;width:250px;height:250px;\" class=\"kakao_ad_area aside_g aside_ad\" data-ad-unit=\"05d24\" data-ad-type=\"D\" data-ad-width=\"250\" data-ad-height=\"250\" data-cloud=\"pc_aside_top_ad\"> </ins> \\n      <div class=\"aside_g aside_popular hide\" data-cloud=\"pc_popular_news\"> \\n       <h3 class=\"txt_newsview\">많이본 뉴스</h3> \\n       <ul class=\"tab_aside tab_media\"> \\n        <li class=\"on\"> <a href=\"#none\" class=\"link_tab link_tab2\">뉴스</a> </li> \\n        <li class=\"\"> <a href=\"#none\" class=\"link_tab link_tab3\">연예</a> </li> \\n        <li class=\"\"> <a href=\"#none\" class=\"link_tab link_tab4\">스포츠</a> </li> \\n       </ul> \\n      </div>  \\n      <div class=\"aside_g aside_phototv hide\" data-cloud=\"pc_news_photo_tv\"> \\n       <h3 class=\"txt_newsview\">포토&amp;TV</h3> \\n       <div class=\"cont_aside\"> \\n        <ul class=\"list_phototv\"></ul> \\n       </div> \\n      </div>  \\n      <ins style=\"display:block;width:250px;height:250px;\" class=\"kakao_ad_area aside_g aside_ad\" data-ad-unit=\"0QH44\" data-ad-type=\"D\" data-ad-width=\"250\" data-ad-height=\"250\" data-cloud=\"pc_aside_bottom_ad\"> </ins> \\n     </div> \\n    </div> \\n    <div id=\"cEtc\"> \\n     <div class=\"realtime_view\"> \\n      <div class=\"inner_realtime\"> \\n       <div data-cloud-area=\"etc\"> \\n        <div class=\"realtime_news\" data-cloud=\"pc_realtime_news\"> \\n         <h3 class=\"txt_newsview\">이 시각 추천뉴스</h3> \\n         <ul class=\"list_realtime\"> \\n          <li class=\"item_main item_realtime_news\"></li> \\n          <li class=\"item_main item_realtime_news\"></li> \\n          <li class=\"item_realtime_news\"></li> \\n          <li class=\"item_realtime_news\"></li> \\n          <li class=\"item_realtime_news\"></li> \\n          <li class=\"item_realtime_news\"></li> \\n          <li class=\"item_realtime_news\"></li> \\n          <li class=\"item_realtime_news\"></li> \\n          <li class=\"item_realtime_news\"></li> \\n          <li class=\"item_realtime_news\"></li> \\n          <li class=\"item_realtime_news\"></li> \\n          <li class=\"item_realtime_news\"></li> \\n         </ul> \\n        </div>  \\n       </div> \\n       <div class=\"realtime_aside\" id=\"realtime_aside\" data-cloud-area=\"etc-aside\"> \\n        <div id=\"daum-sfocus-root\" class=\"shopad_news aside_g aside_shopping\" data-cloud=\"pc_shopping_ad\"></div>   \\n       </div> \\n      </div> \\n     </div> \\n     <div data-cloud-area=\"etc-addition\"> \\n     </div> \\n    </div> \\n   </div> \\n   <hr class=\"hide\"> \\n   <div class=\"footer_comm\" id=\"kakaoFoot\" role=\"contentinfo\" data-cloud-area=\"footer\"> \\n    <div class=\"inner_foot\" data-cloud=\"pc_footer\"> \\n     <div class=\"direct_link\"> \\n      <h2 class=\"tit_direct\">바로가기</h2> \\n      <div class=\"item_bundle\"> <a class=\"link_txt\" href=\"https://news.daum.net/\">뉴스홈</a> <a class=\"link_txt\" href=\"https://news.daum.net/society/\">사회</a> <a class=\"link_txt\" href=\"https://news.daum.net/politics/\">정치</a> <a class=\"link_txt\" href=\"https://news.daum.net/economic/\">경제</a> <a class=\"link_txt\" href=\"https://news.daum.net/foreign/\">국제</a> <a class=\"link_txt\" href=\"https://news.daum.net/culture/\">문화</a> <a class=\"link_txt\" href=\"https://news.daum.net/digital/\">IT</a> <a class=\"link_txt\" href=\"https://news.daum.net/photo/\">포토</a> <a class=\"link_txt\" href=\"https://news.daum.net/tv/\">TV</a> \\n      </div> \\n      <div class=\"item_bundle\"> <a class=\"link_txt\" href=\"https://news.daum.net/cp\">언론사별 뉴스</a> \\n      </div> \\n      <div class=\"item_bundle\"> <a class=\"link_txt\" href=\"https://news.daum.net/newsbox\">배열이력</a> \\n      </div> \\n      <div class=\"item_bundle\"> <a class=\"link_txt\" href=\"https://news.daum.net/breakingnews\">전체뉴스</a> <a class=\"link_txt\" href=\"https://news.daum.net/ranking/popular\">랭킹</a> <a class=\"link_txt\" href=\"https://news.daum.net/series\">연재</a> <a class=\"link_txt\" href=\"https://news.daum.net/1boon\">1boon</a> \\n      </div> <button class=\"btn_fold\" type=\"button\"><span class=\"ico_news\">바로가기 링크 더보기/접기</span></button> \\n     </div> \\n     <h2 class=\"screen_out\">서비스 이용정보</h2> \\n     <div class=\"footer_link\"> <a class=\"link_info\" href=\"https://news.daum.net/info/intro\">다음뉴스 소개</a> <span class=\"txt_dot\"> ・ </span> <a class=\"link_info\" href=\"https://news.daum.net/notice\">공지사항</a> <span class=\"txt_dot\"> ・ </span> <a class=\"link_info\" href=\"https://news.daum.net/info/bbsrule\">게시물 운영원칙</a> <span class=\"txt_dot\"> ・ </span> <a class=\"link_info\" href=\"https://policy.daum.net/info/info\">서비스 약관/정책</a> <span class=\"txt_dot\"> ・ </span> <a class=\"link_info\" href=\"https://with.kakao.com/media\">뉴스제휴</a> <span class=\"txt_dot\"> ・ </span> <a class=\"link_info\" href=\"https://business.kakao.com/\">비즈니스</a> <span class=\"txt_dot\"> ・ </span> <a class=\"link_info\" href=\"https://cs.daum.net/redbell/top.html\">권리침해신고</a> <span class=\"txt_dot\"> ・ </span> <a class=\"link_info\" href=\"https://cs.daum.net/faq/63.html\">다음뉴스 고객센터</a> \\n     </div> \\n     <div class=\"footer_link\"> <a class=\"link_info\" href=\"https://news.daum.net/info/newscenter24\">24시간 뉴스센터</a> <span class=\"txt_dot\"> ・ </span> <a class=\"link_info\" href=\"https://news.daum.net/info/edit\">서비스원칙</a> <span class=\"txt_dot\"> ・ </span> <a class=\"link_info\" href=\"https://news.daum.net/info/correct\">바로잡습니다</a> <span class=\"txt_dot\"> ・ </span> <span class=\"link_info\">기사배열책임자 : 김희정</span> <span class=\"txt_dot\"> ・ </span> <span class=\"link_info\">청소년보호책임자 : 이준목</span> \\n     </div> \\n     <div class=\"info_copyright\"> <strong class=\"info_warn\">위 내용에 대한 저작권 및 법적 책임은 자료제공사 또는 <br>글쓴이에 있으며, Kakao의 입장과 다를 수 있습니다.</strong> <small class=\"txt_copyright\">Copyright © <strong class=\"txt_kakao\"><a href=\"https://www.kakaocorp.com\" class=\"link_kakao\">Kakao Corp.</a></strong> All rights reserved.</small> \\n     </div> \\n    </div>   \\n   </div> <samp data-cloud-area=\"util\">           </samp> \\n  </div>  \\n  <script src=\"//t1.daumcdn.net/harmony_static/cloud/2021/03/12/vendor.39958ce6937d202010c7.js\"></script>\\n  <script src=\"//t1.daumcdn.net/harmony_static/cloud/2021/03/12/common.fa8fe96e8d65011e57eb.js\"></script>\\n  <script src=\"//t1.daumcdn.net/kas/static/ba.min.js\"></script>\\n  <script src=\"//t1.daumcdn.net/kas/static/na.min.js\"></script>\\n  <script src=\"//m1.daumcdn.net/svc/original/U03/cssjs/userAgent/userAgent-1.0.12.min.js\"></script>\\n  <script>\"use strict\";function _classCallCheck(e,t){if(!(e instanceof t))throw new TypeError(\"Cannot call a class as a function\")}function _defineProperties(e,t){for(var a=0;a<t.length;a++){var n=t[a];n.enumerable=n.enumerable||!1,n.configurable=!0,\"value\"in n&&(n.writable=!0),Object.defineProperty(e,n.key,n)}}function _createClass(e,t,a){return t&&_defineProperties(e.prototype,t),a&&_defineProperties(e,a),e}!(function(){var a=\"<li>\\\\n <a href=\\\\\"https://search.daum.net/search?nil_suggest=btn&amp;w=tot&amp;DA=SBC&amp;q=<%= specialRegionName %>%20날씨\\\\\" class=\\\\\"link_cont\\\\\">\\\\n <span class=\\\\\"ico_weather ico_weather<%= weatherIconCode %>\\\\\"><%= specialRegionName %></span> \\\\n <span class=\\\\\"txt_weather\\\\\"><%= specialRegionName %>\\\\n <span class=\\\\\"num_heat\\\\\"><%= temperature %></span> \\\\n <span class=\\\\\"txt_heat\\\\\">℃</span>\\\\n </span>\\\\n </a>\\\\n </li>\",t=document.querySelector(\\'.gnb_weather\\'),n=t.querySelector(\\'ul\\'),e=\"\".concat(Conf.api.hadesRest,\"/pc_weather\");axios.get(e).then(function(e){var t=e.data.body.data,e=t.isNightIconYn,t=t.weatherData;n.dataset.nightyn=e,n.innerHTML=t.map(function(e){return _.template(a)(e)}).join(\\'\\');new s(n)}).catch(function(e){t.parentNode.removeChild(t)});var s=(function(){function t(e){_classCallCheck(this,t),this.PAUSE_TIME=4e3,this.TRANSITION_TIME=500,this.list=e,this.frameId=null,this.pause=this.pause.bind(this),this.start=this.start.bind(this),this.moveUp=this.moveUp.bind(this),this.init(),this.start(),this.list.style.marginTop=\\'0px\\'}return _createClass(t,[{key:\"start\",value:function(){this.frameId=setInterval(this.moveUp,this.PAUSE_TIME)}},{key:\"pause\",value:function(){clearInterval(this.frameId)}},{key:\"moveUp\",value:function(){var e=this.list,t=e.firstElementChild.cloneNode(!0);e.classList.add(\\'slidein\\'),e.style.marginTop=\\'-30px\\',setTimeout(function(){e.classList.remove(\\'slidein\\'),e.style.marginTop=\\'0px\\',e.removeChild(e.firstElementChild),e.appendChild(t)},this.TRANSITION_TIME)}},{key:\"init\",value:function(){var t=this,e=this.list;e.addEventListener(\\'mouseenter\\',this.pause),e.addEventListener(\\'mouseleave\\',this.start),e.querySelectorAll(\\'a\\').forEach(function(e){e.addEventListener(\\'focus\\',t.pause),e.addEventListener(\\'blur\\',t.start)})}}]),t})()})();</script>\\n  <script>\"use strict\";!(function(){var e=-1<\\'\\'.indexOf(\\'tv_news\\')?\\'tv\\':\\'society\\',t=document.querySelector(\\'.gnb_comm\\');(t=e&&t.querySelector(\".\".concat(e)))&&t.setAttribute(\\'class\\',\"\".concat(e,\" on\"))})();</script>\\n  <script src=\"https://t1.daumcdn.net/cssjs/jquery/jquery-1.9.0.min.js\"></script>\\n  <script src=\"https://search1.daumcdn.net/search/suggest_pc/suggest-1.2.16.min.js\"></script>\\n  <script>\"use strict\";!(function(){document.getElementById(\\'search_news\\'),new suggest.Suggest(document.getElementById(\"search_news\"),{inputEl:\\'qVal\\',suggestBoxEl:\\'suggestBox\\',autoFocus:\\'NORMAL\\',suggestLimit:10,isReverse:!1,searchURL:\\'https://search.daum.net/search\\',APIServer:{host:\\'//dapi.kakao.com/suggest/v2/pc.json\\',apiType:suggest.Suggest.APITYPE.DAPISUGGEST,appkey:\\'d7022f6ca2a04430ce1b97b922da58e8\\',queries:{mod:\\'json\\',code:\\'utf_in_out\\'}}}).on(\\'click-item\\',function(){var e=document.getElementById(\\'kakaoSearch\\');e.querySelector(\"input[name=\\'DA\\']\").value=\\'23B\\',e.submit()});var t=document.getElementById(\\'qVal\\');t.addEventListener?(t.addEventListener(\\'focus\\',function(e){e&&e.preventDefault(),0<=t.value.length&&t.parentNode.classList.add(\\'search_on\\')}),t.addEventListener(\\'blur\\',function(e){e&&e.preventDefault(),0===t.value.length&&t.parentNode.classList.remove(\\'search_on\\')})):(t.attachEvent(\\'onfocus\\',function(e){e&&(e.preventDefault?e.preventDefault():e.returnValue=!1),0<=t.value.length&&t.parentNode.setAttribute(\\'class\\',\\'box_searchbar search_on\\')}),t.attachEvent(\\'onblur\\',function(e){e&&(e.preventDefault?e.preventDefault():e.returnValue=!1),0===t.value.length&&t.parentNode.setAttribute(\\'class\\',\\'box_searchbar\\')}))})(jQuery);</script>\\n  <script src=\"//t1.daumcdn.net/daumtop_deco/socialshare/socialshare_nocss_pc-2.4.2.js\"></script>\\n  <script>\"use strict\";!(function(){var t=document.querySelector(\\'.util_summary\\'),r=t.querySelector(\\'.btn_summary\\'),e=t.querySelectorAll(\".layer_summary p\"),n=!1;function i(){t.classList.remove(\\'layer_open\\'),r.setAttribute(\\'aria-expanded\\',!1)}function a(e){if(e.target===r||e.target===r.children[0])return!1;i(),window.removeEventListener(\\'click\\',a)}e.forEach(function(e){return e.classList.add(\"desc_news\")}),r.addEventListener(\\'click\\',function(e){(n=!n)?(t.classList.add(\\'layer_open\\'),r.setAttribute(\\'aria-expanded\\',!0),window.addEventListener(\\'click\\',a)):i()}),r.addEventListener(\\'blur\\',function(e){n=!1,i()})})();</script>\\n  <script>\"use strict\";function _slicedToArray(e,t){return _arrayWithHoles(e)||_iterableToArrayLimit(e,t)||_unsupportedIterableToArray(e,t)||_nonIterableRest()}function _nonIterableRest(){throw new TypeError(\"Invalid attempt to destructure non-iterable instance.\\\\nIn order to be iterable, non-array objects must have a [Symbol.iterator]() method.\")}function _unsupportedIterableToArray(e,t){if(e){if(\"string\"==typeof e)return _arrayLikeToArray(e,t);var n=Object.prototype.toString.call(e).slice(8,-1);return\"Object\"===n&&e.constructor&&(n=e.constructor.name),\"Map\"===n||\"Set\"===n?Array.from(e):\"Arguments\"===n||/^(?:Ui|I)nt(?:8|16|32)(?:Clamped)?Array$/.test(n)?_arrayLikeToArray(e,t):void 0}}function _arrayLikeToArray(e,t){(null==t||t>e.length)&&(t=e.length);for(var n=0,r=new Array(t);n<t;n++)r[n]=e[n];return r}function _iterableToArrayLimit(e,t){if(\"undefined\"!=typeof Symbol&&Symbol.iterator in Object(e)){var n=[],r=!0,o=!1,a=void 0;try{for(var i,s=e[Symbol.iterator]();!(r=(i=s.next()).done)&&(n.push(i.value),!t||n.length!==t);r=!0);}catch(e){o=!0,a=e}finally{try{r||null==s[\"return\"]||s[\"return\"]()}finally{if(o)throw a}}return n}}function _arrayWithHoles(e){if(Array.isArray(e))return e}!(function(){var t,e,n,r,o,a=\\'VIEW_TTS\\',i=\\'v.daum.net\\',s={slow_Male:\\'http://k-v1.kakaocdn.net/dn/dBul0F/btq09j65WZ8/JLXZcP7bxLQDkcbMhSH4h1/original.m4a\\',normal_Male:\\'http://k-v1.kakaocdn.net/dn/cl4tlM/btq081TbK4O/TtveGk8OkzSM6172crN8m0/original.m4a\\',fast_Male:\\'http://k-v1.kakaocdn.net/dn/Xnmqx/btq09itA0Th/hkajwdlw0YveGoVrW5g5Yk/original.m4a\\',slow_Female:\\'http://k-v1.kakaocdn.net/dn/uSroG/btq09jTBNj7/6zBK9PYENpbAriOTrKjJd1/original.m4a\\',normal_Female:\\'http://k-v1.kakaocdn.net/dn/F9Wkt/btq1aR9DbtL/oSDiuXUi5HedccXMw8OIG1/original.m4a\\',fast_Female:\\'http://k-v1.kakaocdn.net/dn/iCfWn/btq09iAm9xD/Qm0NkMifuXwviygzdAfuQK/original.m4a\\'},l=document.querySelector(\\'.util_view .tts_btn\\'),c=l.querySelectorAll(\\'.list_tts input\\'),u=l.querySelector(\\'.btn_tts\\'),d=l.querySelector(\\'.ico_speak\\'),y=l.querySelector(\\'.wrap_setlayer\\').querySelectorAll(\\'.ico_newsview\\'),f=l.querySelector(\\'#ttsPlayer\\');function m(){var e,t,n,r,o=(e=l.querySelector(\\'input[name=ttsSpeed]:checked\\').value,t=l.querySelector(\\'input[name=ttsGender]:checked\\').value,\"\".concat(e,\"_\").concat(t));f.setAttribute(\\'src\\',s[o]),n=o,Cookies.set(a,\\'\\',{expires:-1}),Cookies.set(a,n,{domain:i,expires:new Date(1*new Date+365*864e5)}),r=o,u.className=\\'btn_set btn_tts #util #tts #p_\\'+r}function p(e){\\'playOptions\\'==e?(m(),f.load(),f.play(),d.textContent=\\'음성 기사 정지\\'):\\'play\\'==e?(f.load(),f.play(),d.textContent=\\'음성 기사 정지\\'):(f[e](),d.textContent=\\'음성 기사 듣기\\')}function v(){clearTimeout(n),t.classList.add(\\'layer_open\\'),e.setAttribute(\\'aria-expanded\\',!0)}function _(){r||(n=setTimeout(b,100))}function b(){t.classList.remove(\\'layer_open\\'),e.setAttribute(\\'aria-expanded\\',!1)}function L(e){e?t.classList.add(\\'on\\'):t.classList.remove(\\'on\\')}function h(e,t){document.getElementById(\"ttsSpeed\".concat(e)).checked=!0,document.getElementById(\"ttsGender\".concat(t)).checked=!0}t=(o={layer:l,btn:u,radios:c}).layer,e=o.btn,o=o.radios,r=!(n=0),t.addEventListener(\\'mouseover\\',function(e){r=!0,v()}),t.addEventListener(\\'mouseleave\\',function(e){r=!1,_()}),e.addEventListener(\\'keydown\\',function(e){13===e.keyCode&&((r=!r)?v:b)()}),t.addEventListener(\\'blur\\',function(e){r=!1,_()}),e.addEventListener(\\'click\\',function(e){f.paused?(L(!0),p(\\'play\\')):(L(!1),p(\\'pause\\'))}),o.forEach(function(e){e.addEventListener(\\'change\\',function(e){t.classList.add(\\'on\\'),p(\\'playOptions\\')}),e.addEventListener(\\'blur\\',function(e){r=!1,_()}),e.addEventListener(\\'focus\\',function(e){r=!0,v()})}),y=(o={icons:y,radios:c}).icons,c=o.radios,y.forEach(function(e){e.addEventListener(\\'mouseover\\',function(e){this.classList.add(\\'ico_focused\\')}),e.addEventListener(\\'mouseleave\\',function(e){this.classList.remove(\\'ico_focused\\')})}),c.forEach(function(e){e.addEventListener(\\'focus\\',function(e){this.nextElementSibling.querySelector(\\'span\\').classList.add(\\'ico_focused\\')}),e.addEventListener(\\'blur\\',function(e){this.nextElementSibling.querySelector(\\'span\\').classList.remove(\\'ico_focused\\')})}),f.addEventListener(\\'ended\\',function(e){l.classList.remove(\\'on\\')}),void 0===(o=Cookies.get(a))||o.includes(\\'undefined\\')?h(\\'Normal\\',\\'Male\\'):(c=(y=_slicedToArray(o.split(\\'_\\'),2))[0],y=y[1],h(c=(o=c).charAt(0).toUpperCase()+o.slice(1),y)),m()})();</script>\\n  <script>\"use strict\";!(function(){var n=document.createElement(\\'DIV\\');n.innerHTML=\"\\\\n <div id=\\\\\"translatingLayer\\\\\" class=\\\\\"translate_layer\\\\\">\\\\n <div class=\\\\\"inner_translate_layer\\\\\">\\\\n <div class=\\\\\"layer_body\\\\\">\\\\n <strong class=\\\\\"tit_translate\\\\\">\\\\n 번역중 <span class=\\\\\"eng_tit\\\\\">Now in translation</span>\\\\n </strong>\\\\n </div>\\\\n </div>\\\\n </div>\\\\n\\\\n <div id=\\\\\"translateErrorLayer\\\\\" class=\\\\\"translate_layer\\\\\">\\\\n <div class=\\\\\"inner_translate_layer inner_error_layer\\\\\">\\\\n <div class=\\\\\"layer_body\\\\\">\\\\n <span class=\\\\\"ico_newsview ico_error\\\\\"></span>\\\\n <strong class=\\\\\"tit_translate\\\\\">\\\\n 잠시 후 다시 시도해 주세요 <span class=\\\\\"eng_tit\\\\\">Please try again in a moment</span>\\\\n </strong>\\\\n </div>\\\\n </div>\\\\n </div>\\\\n \",document.body.querySelector(\"#kakaoWrap\").appendChild(n)})();</script>\\n  <script>\"use strict\";function _toConsumableArray(e){return _arrayWithoutHoles(e)||_iterableToArray(e)||_unsupportedIterableToArray(e)||_nonIterableSpread()}function _nonIterableSpread(){throw new TypeError(\"Invalid attempt to spread non-iterable instance.\\\\nIn order to be iterable, non-array objects must have a [Symbol.iterator]() method.\")}function _unsupportedIterableToArray(e,t){if(e){if(\"string\"==typeof e)return _arrayLikeToArray(e,t);var n=Object.prototype.toString.call(e).slice(8,-1);return\"Object\"===n&&e.constructor&&(n=e.constructor.name),\"Map\"===n||\"Set\"===n?Array.from(e):\"Arguments\"===n||/^(?:Ui|I)nt(?:8|16|32)(?:Clamped)?Array$/.test(n)?_arrayLikeToArray(e,t):void 0}}function _iterableToArray(e){if(\"undefined\"!=typeof Symbol&&Symbol.iterator in Object(e))return Array.from(e)}function _arrayWithoutHoles(e){if(Array.isArray(e))return _arrayLikeToArray(e)}function _arrayLikeToArray(e,t){(null==t||t>e.length)&&(t=e.length);for(var n=0,r=new Array(t);n<t;n++)r[n]=e[n];return r}!(function(){var e,t,n,r,a=document.querySelector(\\'.translate_btn\\'),o=a.querySelector(\\'.btn_translate\\'),l=a.querySelector(\\'.link_kakaoi\\'),s=a.querySelectorAll(\\'.btn_lang\\'),i=document.getElementById(\\'translatingLayer\\'),c=document.getElementById(\\'translateErrorLayer\\'),y=document.getElementById(\\'kakaoWrap\\');function u(){i.style.display=\\'none\\',c.style.display=\\'none\\',document.body.style.overflow=\\'\\'}function d(){clearTimeout(e),t.classList.add(\\'layer_open\\'),n.setAttribute(\\'aria-expanded\\',!0)}function f(){t.classList.remove(\\'layer_open\\'),n.setAttribute(\\'aria-expanded\\',!1)}function p(){r||(e=setTimeout(f,1))}function m(e){var t=e.currentTarget.name;u(),i.style.display=\\'block\\',document.body.style.overflow=\\'hidden\\';try{HarmonyTranslator.translate(\\'kr\\',t,_,b)}catch(e){console.error(\\'번역 에러:\\',e)}}function _(e){var t=document.querySelector(\\'#translateNotice\\'),e=e.targetLang;switch(e){case\\'en\\':case\\'id\\':y.classList.add(\\'lang_type1\\'),y.classList.remove(\\'lang_type2\\'),y.classList.remove(\\'lang_type3\\');break;case\\'cn\\':case\\'jp\\':y.classList.remove(\\'lang_type1\\'),y.classList.add(\\'lang_type2\\'),y.classList.remove(\\'lang_type3\\');break;case\\'vi\\':y.classList.remove(\\'lang_type1\\'),y.classList.remove(\\'lang_type2\\'),y.classList.add(\\'lang_type3\\');break;default:y.classList.remove(\\'lang_type1\\'),y.classList.remove(\\'lang_type2\\'),y.classList.remove(\\'lang_type3\\')}\\'kr\\'==e?(t.querySelectorAll(\\'.notice_lang\\').forEach(function(e){e.style.display=\\'none\\'}),t.style.display=\\'none\\'):(t.querySelectorAll(\".notice_lang:not(.notice_lang_\".concat(e,\")\")).forEach(function(e){e.style.display=\\'none\\'}),t.querySelector(\".notice_lang.notice_lang_\".concat(e)).style.display=\\'block\\',t.style.display=\\'block\\'),setTimeout(function(){u()},500)}function b(e,t){u(),c.style.display=\\'block\\',document.body.style.overflow=\\'hidden\\',setTimeout(function(){u()},2e3)}l={layer:a,btn:o,inputs:[l].concat(_toConsumableArray(s))},t=l.layer,n=l.btn,l=l.inputs,r=!1,n.addEventListener(\\'click\\',function(){((r=!r)?d:p)()}),t.addEventListener(\\'mouseover\\',function(){r=!0,d()}),t.addEventListener(\\'mouseleave\\',function(){r=!1,f()}),l.forEach(function(e){e.addEventListener(\\'focus\\',function(e){r=!0,d()}),e.addEventListener(\\'blur\\',function(e){r=!1,p()})}),s.forEach(function(e){e.addEventListener(\\'click\\',m)})})();</script>\\n  <script>\"use strict\";!(function(){var e,t=(o=\\'충북서 15명 확진..목욕탕·학원·교회 곳곳서 연쇄감염 속출\\',(c=document.createElement(\\'div\\')).innerHTML=o,c.textContent),a=\\'20210327181307263\\'||\\'cdyIadIm96\\',n=\"\".concat(location.protocol,\"//\").concat(location.host,\"/v/\").concat(a),o=\"http://scrap.cafe.daum.net/_dss_/scrap?folder_id=100000&source_location_code=10&target_location_code=1&data_id=\".concat(a),c={shareType:\\'sendScrap\\',shareData:{requestUrl:n,templateId:7952,installTalk:!0,templateArgs:{\\'${EncodingUrl}\\':encodeURIComponent(n),\\'${webUrl}\\':n+\\'?f=p\\',\\'${mobileWebUrl}\\':n+\\'?f=m\\'}}},r=document.querySelector(\\'.share_btn\\'),i=document.getElementById(\\'rSocialShareButton\\'),a=document.getElementById(\\'rSocialShareLayerContainer\\'),d=new socialshareRenewal.Main(i,{moreViewContainer:a,action:\\'hover\\',link:n,prefix:t,service_name:\\'다음뉴스\\',cafe:o,kakaoAPI:{appkey:\\'53e566aa17534bc816eb1b5d8f7415ee\\',kakaoLinkData:c}}),s=!1;function l(){e=setTimeout(function(){s=!1,r.classList.remove(\\'layer_open\\'),i.setAttribute(\\'aria-expanded\\',!1),d.close()},100)}function u(){s=!0,m(),r.classList.add(\\'layer_open\\'),i.setAttribute(\\'aria-expanded\\',!0),d.open()}function m(){clearTimeout(e)}i.addEventListener(\\'mouseenter\\',u),i.addEventListener(\\'mouseleave\\',l),i.addEventListener(\\'click\\',function(e){(s?l:u)()}),a.addEventListener(\\'mouseenter\\',m),a.addEventListener(\\'mouseleave\\',l),a.querySelectorAll(\\'a\\').forEach(function(e){e.addEventListener(\\'focus\\',m),e.addEventListener(\\'blur\\',l)})})();</script>\\n  <script>\"use strict\";!(function(){var e,t,n,o,i=document.querySelector(\\'.news_view\\'),s=document.querySelector(\\'.font_btn\\'),c=s.querySelector(\\'.btn_font\\'),r=s.querySelector(\\'.list_font\\'),u=r.querySelectorAll(\\'input\\'),a=\\'GS_font_size\\',l=\\'v.daum.net\\';function d(e){i.style.fontSize=\"\".concat(e,\"px\"),document.querySelector(\"#inpFont\".concat(e)).checked=!0,r.querySelectorAll(\\'label\\').forEach(function(e){return e.classList.remove(\\'on\\')}),r.querySelector(\"label[for=inpFont\".concat(e,\"]\")).classList.add(\\'on\\'),e=e,Cookies.set(a,\\'\\',{expires:-1}),Cookies.set(a,e,{domain:l,expires:new Date(1*new Date+365*864e5)})}function f(){clearTimeout(e),t.classList.add(\\'layer_open\\'),n.setAttribute(\\'aria-expanded\\',!0)}function v(){t.classList.remove(\\'layer_open\\'),n.setAttribute(\\'aria-expanded\\',!1)}function p(){o&&(e=setTimeout(v,1))}d(Cookies.get(a)||17),u.forEach(function(e){e.addEventListener(\\'change\\',function(e){d(e.target.value)})}),t=(c={layer:s,btn:c,inputs:u}).layer,n=c.btn,c=c.inputs,o=!1,t.addEventListener(\\'mouseover\\',function(){o=!0,f()}),t.addEventListener(\\'mouseleave\\',function(){o=!1,v()}),c.forEach(function(e){e.addEventListener(\\'focus\\',f),e.addEventListener(\\'blur\\',p)}),n.addEventListener(\\'click\\',function(e){((o=!o)?f:v)()}),s={options:s.querySelectorAll(\\'.ico_newsview\\'),inputs:u},u=s.options,s=s.inputs,u.forEach(function(e){e.addEventListener(\\'mouseover\\',function(){this.classList.add(\\'ico_focused\\')}),e.addEventListener(\\'mouseleave\\',function(){this.classList.remove(\\'ico_focused\\')})}),s.forEach(function(e){e.addEventListener(\\'focus\\',function(){this.nextElementSibling.querySelector(\\'span\\').classList.add(\\'ico_focused\\')}),e.addEventListener(\\'blur\\',function(){this.nextElementSibling.querySelector(\\'span\\').classList.remove(\\'ico_focused\\')})})})();</script>\\n  <script>\"use strict\";document.body.querySelector(\".btn_print\").parentNode.addEventListener(\"click\",function(t){t.preventDefault(),window.open(\\'https://news.v.daum.net/v/20210327181307263?s=print_news\\',\\'newsPrint\\',\\'width=750,height=550,scrollbars=yes\\')});</script>\\n  <script type=\"text/javascript\" src=\"//comment.daum.net/js/latest/alex.action.min.js\"></script>\\n  <script>\"use strict\";!(function(){var s=\"20210327181307263\",e=\"\".concat(Conf.api.hadesRest,\"/pc_mc2_news?cate=\").concat(\"news\",\"&id=\").concat(s),a=\\'<li class=\"on\"> <div class=\"inner_box\"><span class=\"link_txt\"><%= title %></span></div> </li>\\',i=\\'<li> <div class=\"inner_box\"><a href=\"https://news.v.daum.net/v/<%= contentId %>\" class=\"link_txt\"><%= title %></a></div> </li>\\',c=\\'//news.daum.net/series\\',r=document.querySelector(\\'.relate_series\\'),o=r.querySelector(\\'.title_series\\'),d=r.querySelector(\\'.link_more\\'),l=r.querySelector(\\'.list_series\\');function m(e){e&&e.parentNode.removeChild(e)}axios.get(e).then(function(e){var t,n=e.data.body.data.data;_.isEmpty(n)||\\'series\\'!==n[0].factor.type?m(r):(t=n[0],e=t.contents,n=t._id,t=t.title,e.length<3&&l.classList.add(\\'relate_series2\\'),o.textContent=t,d.setAttribute(\\'href\\',c+\\'/\\'+n),l.innerHTML=e.map(function(e){var t=e.contentId,e=e.title;return t==s?_.template(a)({title:e}):_.template(i)({contentId:t,title:e})}).join(\\'\\'),(e=r)&&e.classList.remove(\\'hide\\'))}).catch(function(e){console.error(\"[클러스터]: 데이터를 가져오는데 실패했습니다. 에러: \",e,\"에러 데이터: \",e.response.data),m(r)})})();</script>\\n  <script>\"use strict\";function cmRenderFailCallBack(e){e.parentElement.removeChild(e)}</script>\\n  <script>\"use strict\";document.addEventListener(\\'DOMContentLoaded\\',function(){var t=\"\".concat(Conf.api.hadesRest)+\"/service_notice?id=\"+\"3393\",n=document.querySelector(\"#newsviewNotice\");axios.get(t).then(function(t){var e=t.data.body.data,t=e.noticeTitle,e=e.noticeUrl;null!==t?n.innerHTML=\"<strong class=\\\\\"tit_notice\\\\\">공지</strong><span class=\\\\\"txt_notice\\\\\"><a href=\\\\\"\".concat(e,\"\\\\\" class=\\\\\"link_txt\\\\\">\").concat(t,\"</a></span>\"):n.parentNode.removeChild(n)}).catch(function(t){console.log(\"댓글 공지 오류: \"+t),n.parentNode.removeChild(n)})});</script>\\n  <script src=\"//comment.daum.net/js/latest/alex.single.min.js\"></script>\\n  <script>\"use strict\";window.excludeCorejs=!1,window.alexConfig={label:{emptyImage:\\'//i1.daumcdn.net/img-section/enter2013/liveviewer/pc_emot_co.gif\\'},onLoad:function(){window.isLoadComment=!0}},/politics|society/.test(\"society\")&&(window.alexConfig.label.openWriteGuide=\"후보자 등에 관한 허위사실․비방을 게시하는 경우에는 공직선거법에 따라 댓글이 삭제되거나 고발될 수 있습니다.\");</script>\\n  <script>\"use strict\";!(function(){var t,n,a=document.querySelector(\\'.aside_popular\\'),e=document.querySelectorAll(\".tab_aside li a\"),i={\"뉴스\":\"news\",\"연예\":\"entertain\",\"스포츠\":\"sports\"},c={news:{el:e[0],korName:\"뉴스\",moreLink:\"https://news.daum.net/ranking/popular/all\"},entertain:{el:e[1],korName:\"연예\",moreLink:\"https://entertain.daum.net/ranking/popular\"},sports:{el:e[2],korName:\"스포츠\",moreLink:\"https://sports.daum.net/news/ranking\"}},r=c[\"news\"].el,l=1;function s(n){var e;r!==n&&((e=r.parentNode.querySelector(\".cont_aside\"))&&e.parentNode.removeChild(e),r.parentNode.classList.remove(\"on\"),n.parentNode.classList.add(\"on\"),l=1,o(n),r=n)}function o(n){var e=n.innerText,t=i[e],a=c[t].moreLink,s=document.createElement(\"div\"),t=d(t);function o(){var n=document.querySelector(\".cont_aside .list_ranking\"),e=r.innerText,e=i[e];l=this.classList.contains(\"btn_prev\")?1===l?3:l-1:3===l?1:l+1,n.innerHTML=d(e)}s.classList.add(\"cont_aside\"),s.innerHTML=\"\\\\n <strong class=\\\\\"screen_out\\\\\">\".concat(e,\"</strong>\\\\n <ol class=\\\\\"list_ranking\\\\\">\\\\n \").concat(t,\" \\\\n </ol>\\\\n <div class=\\\\\"util_aside\\\\\">\\\\n <button class=\\\\\"btn_slide btn_prev\\\\\"><span class=\\\\\"ico_newsview\\\\\">이전</span></button>\\\\n <button class=\\\\\"btn_slide btn_next\\\\\"><span class=\\\\\"ico_newsview\\\\\">다음</span></button>\\\\n <a href=\").concat(a,\" class=\\\\\"link_all\\\\\"><span class=\\\\\"txt_newsview\\\\\">전체 보기</span><span class=\\\\\"ico_newsview\\\\\"></span></a>\\\\n </div>\\\\n \"),n.parentNode.appendChild(s),s.querySelector(\".btn_prev\").addEventListener(\\'click\\',o),s.querySelector(\".btn_next\").addEventListener(\\'click\\',o)}function d(n){return c[n].contents.slice(10*(l-1),10*l).map(function(n){return\"\\\\n <li>\\\\n <em class=\\\\\"num_newsview num\".concat(n.index,\"\\\\\">\").concat(n.index,\"위</em>\\\\n <strong class=\\\\\"tit_g\\\\\"><a href=\\\\\"\").concat(n.pcLink,\"\\\\\" class=\\\\\"link_txt @\").concat(n.index,\"\\\\\">\").concat(n.title,\"</a></strong>\\\\n </li>\\\\n \")}).join(\\'\\')}t=c,n=\"\".concat(Conf.api.hadesRest,\"/pc_popular_news?size=30\"),axios.get(n).then(function(n){var e=n.data.body.data;Object.keys(e).forEach(function(n){t[n].contents=e[n]}),o(r),a.classList.remove(\\'hide\\')}).catch(function(n){a.parentNode.removeChild(a)}),e.forEach(function(n){n.addEventListener(\"mouseover\",function(n){return s(n.target)}),n.addEventListener(\"focus\",function(n){return s(n.target)})})})();</script>\\n  <script>\"use strict\";!(function(){var t=\"<li>\\\\n <a class=\\\\\"link_cont\\\\\" href=\\\\\"<%= url %>\\\\\">\\\\n <span class=\\\\\"wrap_thumb\\\\\">\\\\n <img class=\\\\\"thumb_g\\\\\" src=\\\\\"<%= thumbnail %>\\\\\" alt=\\\\\"\\\\\"/>\\\\n <span class=\\\\\"ico_phototv\\\\\">\\\\n <% if (type == \\'photo\\') { %>\\\\n <span class=\\\\\"ico_newsview ico_photo\\\\\">포토</span>\\\\n <% } else { %>\\\\n <span class=\\\\\"ico_newsview ico_vod\\\\\">영상</span>\\\\n <% } %>\\\\n </span>\\\\n </span>\\\\n <strong class=\\\\\"tit_thumb\\\\\"><%= title %></strong>\\\\n </a>\\\\n </li>\",o=document.querySelector(\\'.aside_phototv\\'),s=o.querySelector(\\'.list_phototv\\'),n=\"\".concat(Conf.api.hadesRest,\"/pc_photo_tv\");function a(n){n&&n.parentNode.removeChild(n)}axios.get(n).then(function(n){n=n.data.body.data;_.isEmpty(n)?a(o):(s.innerHTML=n.map(function(n){return _.template(t)(n)}).join(\\'\\'),(n=o)&&n.classList.remove(\\'hide\\'))}).catch(function(n){console.error(\\'[PC 뉴스 포토&TV]:\\',n),a(o)})})();</script>\\n  <script>\"use strict\";!(function(){var n=\\'S570x320\\',e=\"20210327181307263\",t=encodeURIComponent(JSON.stringify({itemid:e,category:\"news\".replace(\\'tain\\',\\'\\')})),e={source:e},r=\"<a href=\\\\\"<%=obj.url%>\\\\\" class=\\\\\"link_cont\\\\\" data-itemid=\\\\\"<%=obj._id%>\\\\\"\\\\\" data-pos=\\\\\"<%=obj.pos%>\\\\\">\\\\n <span class=\\\\\"wrap_thumb\\\\\"><img src=\\\\\"<%=obj.thumbnail%>\\\\\" class=\\\\\"thumb_g\\\\\" alt=\\\\\"\\\\\"></span>\\\\n <strong class=\\\\\"tit_thumb\\\\\"><%=obj.title%></strong>\\\\n </a>\",o=\"<strong class=\\\\\"tit_g\\\\\">\\\\n <span class=\\\\\"info_news\\\\\"><%=obj.cp_name%></span>\\\\n <a href=\\\\\"<%=obj.url%>\\\\\" data-itemid=\\\\\"<%=obj._id%>\\\\\" data-pos=\\\\\"<%=obj.pos%>\\\\\" class=\\\\\"link_txt\\\\\"><%=obj.title%></a>\\\\n </strong>\",m=[];new Toros.Connector({url:\\'mediadaum/most_similar\\',queryParams:t,map:function(e){var t=e._id,a=e.title,i=e.image,e=e.cp_name,e={_id:t,url:\"https://v.daum.net/v/\".concat(t),title:a,thumbnail:StringUtil.makeThumbnail(i,n),cp_name:e};if(!(m.length<2&&i))return e;m.push(e)},svc:\\'mediadaum_sim\\',impLabel:\\'toros_mediadaum_sim_imp\\',impProps:e,viewLabel:\\'toros_mediadaum_sim_vimp\\',viewProps:e,clickLabel:\\'toros_mediadaum_sim_click\\',clickProps:e,customRender:function(e,i,n){var s=e.filter(function(e){return!!e._id});m.length<2||s.length<10?document.querySelector(\\'.realtime_news\\').remove():document.querySelectorAll(\\'.item_realtime_news\\').forEach(function(e,t){var a=t<2?{article:m.shift(),template:r}:{article:s.shift(),template:o},t=a.article,a=a.template;t?(e.insertAdjacentHTML(\\'beforeend\\',_.template(a)(t)),e.classList.remove(\\'item_realtime_news\\'),e.classList.length||e.removeAttribute(\\'class\\'),t=e.querySelector(\\'a\\'),i.observe(t),t.addEventListener(\\'click\\',n)):e.remove()})}}).render()})();</script>\\n  <script>\"use strict\";window.daum_sfocus_adunit=\\'DAU-f6a75279b\\',window.daum_sfocus_cp=\\'2\\'+\\'_pc_media_news\\',window.daum_sfocus_channel=\\'harmony\\';</script>\\n  <script src=\"//keyword.ad.daum.net/script/load_sfocus.js\"></script>\\n  <script>\"use strict\";!(function(){var e=document.querySelector(\".direct_link\");e.querySelector(\".btn_fold\").addEventListener(\\'click\\',function(){e.classList.toggle(\"direct_open\")})})();</script>\\n  <script>\\n    window.minidaum_options = JSON.parse(\\'{\"bgType\":\"white\",\"enableLogoutRetun\":true,\"returnUrl\":\"\",\"disableHotissue\":false,\"disableLogo\":false,\"disableTracker\":true,\"enableTopLink\":false}\\');\\n</script>\\n  <script src=\"https://go.daum.net/minidaum_pc.daum\"></script>\\n  <script>\"use strict\";document.querySelectorAll(\\'.kakao_ad_area\\').forEach(function(a){a.setAttribute(\\'data-ad-param-channel\\',\\'harmony\\'),a.setAttribute(\\'data-ad-param-cp\\',\\'2_pc_media_news\\')});</script>\\n  <script>\"use strict\";!(function(){var e,t,i,c=\\'<div class=\"direct_view\" style=\"top:<%= top %>px; width:<%= width %>px; margin-left:<%= left %>px\"> <a href=\"<%= url %>\" class=\"link_view\"> <span class=\"txt_g\"><%= title %></span> <span class=\"ico_view\"> <span class=\"ico_newsview ico_gallery\">갤러리 이동</span> </span> </a> </div>\\';e=\\'cdyIadIm96\\',!(t=\\'\\')||(i=document.querySelector(\\'img[dmcf-mtype=\"image\"]\\'))&&!i.querySelector(\\'.direct_vod\\')&&axios.get(\"\".concat(Conf.api.hadesRest,\"/photo_gallery_link_info?docId=\").concat(e,\"&galleryId=\").concat(parseInt(t,10))).then(function(e){var t,a=e.data.body.data;t=i,a=(e=a).title,e=e.pcLink,a&&e&&(e={title:a,url:e,top:t.clientHeight-62,width:a=t.clientWidth,left:a/2*-1},a=document.createElement(\\'div\\'),t.parentNode.appendChild(a),a.outerHTML=_.template(c)(e))})})();</script>\\n  <script src=\"//search1.daumcdn.net/search/statics/common/js/g/search_dragselection.min.js\"></script>\\n  <script>\"use strict\";!(function(){var e=document.querySelector(\".head_media\"),n=document.getElementById(\"wrapMinidaum\").offsetHeight+e.offsetHeight,o=document.getElementById(\"barProgress\"),d=document.getElementById(\"mAside\"),s=document.getElementById(\"kakaoWrap\"),l=document.getElementById(\"kakaoGnb\"),r=document.getElementById(\"mArticle\"),a=document.querySelector(\".cmt_news\"),c=document.querySelector(\".aside_ad:first-child\"),f=document.querySelector(\".aside_ad:last-child\"),g=document.getElementById(\\'realtime_aside\\');function t(){var e=window.scrollY||window.pageYOffset,t=document.body.offsetHeight,i=window.innerHeight;n<e?(i=100*e/(t-i),s.classList.add(\"header_fixed\"),o.style.width=parseInt(i,10)+\"%\"):s.classList.remove(\"header_fixed\")}function i(){var e=window.scrollX||window.pageXOffset,t=cMain.clientWidth,i=r.clientWidth,n=t-i-d.clientWidth,o=getComputedStyle(cMain),s=null;s=g?(t=g.getBoundingClientRect().left)<880?t+e:t:i+n+parseInt(o[\\'marginLeft\\'],10)-e,r.offsetHeight<d.offsetHeight||(a.style.minHeight=\\'250px\\',0<(n=(window.scrollY||window.pageYOffset)-cMain.offsetTop-8-c.clientHeight)?(o=r.offsetHeight-a.offsetHeight,(e=d.offsetHeight-f.offsetHeight)+n+8<o?(d.style.position=\\'fixed\\',d.style.top=l.clientHeight-c.offsetHeight-74+\\'px\\',d.style.left=s+\\'px\\'):(d.style.position=\\'relative\\',d.style.top=o-e+\\'px\\',d.style.left=\\'inherit\\')):(d.style.position=\\'static\\',d.style.top=\\'inherit\\',d.style.left=\\'inherit\\'))}\\'false\\'!=\\'true\\'&&\\'news\\'==\\'news\\'?(window.addEventListener(\"resize\",_.throttle(i,100)),window.addEventListener(\"scroll\",_.throttle(function(){t(),i()},100)),t(),i()):(window.addEventListener(\"scroll\",_.throttle(function(){t()},100)),t())})();</script>\\n  <script type=\"text/javascript\" src=\"//t1.daumcdn.net/tiara/js/v1/tiara.min.js\"></script>\\n  <script>\"use strict\";!(function(){if(window.TiaraTracker){var c=!1,s=new Date,m=\"pc_news\",l=null;try{l=Cookies.get(\\'DAUMTOP\\')||Cookies.get(\\'HARMONY_TOROS_IMP\\')&&window.atob(Cookies.get(\\'HARMONY_TOROS_IMP\\'))}catch(e){l=Cookies.get(\\'DAUMTOP\\')}var u=\\'\\',g=\\'\\',y=TiaraTracker.getInstance().setSvcDomain(\"media.daum.net\").setPage(\"newsview\").trackPage(\"newsview\").setSection(\"society\").setEnableAlwaysImage(!0),f={id:\"20210327181307263\",type:\"article\",name:\"\\\\uCDA9\\\\uBD81\\\\uC11C 15\\\\uBA85 \\\\uD655\\\\uC9C4..\\\\uBAA9\\\\uC695\\\\uD0D5\\\\u00B7\\\\uD559\\\\uC6D0\\\\u00B7\\\\uAD50\\\\uD68C \\\\uACF3\\\\uACF3\\\\uC11C \\\\uC5F0\\\\uC1C4\\\\uAC10\\\\uC5FC \\\\uC18D\\\\uCD9C\",category_id:\"1067\",category:\"society\",author:\"\\\\uCC9C\\\\uACBD\\\\uD658\",author_id:\"\",provider:\"\\\\uC5F0\\\\uD569\\\\uB274\\\\uC2A4\",provider_id:\"2\",regdate:\"2021-03-27 18:13:07\",plink:\"https://media.daum.net/v/20210327181307263\",image:\"https://t1.daumcdn.net/news/202103/27/yonhap/20210327181307369mtfq.jpg\",harmony_consumer_id:\"media\",media:\"pcweb\"},p={contentUniqueKey:\"hamny-\".concat(f.id),docId:\"cdyIadIm96\",harmony_consumer_id:\"media\",media:\"pcweb\",reg_dt:\"2021-03-27 18:13:07\",reg_timestamp:\"1616836387311\"},e=function(){c||y.actionKind(\"ViewContent\").pageMeta(f).customProps(p).track()},t=function(){if(!c){c=!0;var e=document.body.scrollHeight,t=window.scrollY,a=e-t,o=window.innerHeight,n=Math.round(t/(e-o)*100),i={},o={duration:(new Date).getTime()-s.getTime(),scroll_percent:n,scroll_height:e,scroll_top:t,scroll_bottom:a,scroll_inner_height:o};try{var d,r=!1;!l||(d=JSON.parse(l)).contents_unique_key===p.contentUniqueKey&&(i={toros_imp_id:d.impression_id,toros_file_hash_key:d.toros_file_hash_key,toros_user_id_type:\"uuid\",toros_page_meta_id:p.contentUniqueKey,toros_event_meta_id:p.contentUniqueKey,toros_action_type:\"dwelltime\"},Cookies.remove(\\'HARMONY_TOROS_IMP\\',{path:\\'/\\',domain:location.hostname.substring(location.hostname.indexOf(\\'.\\'))}),Cookies.remove(\\'DAUMTOP\\',{path:\\'/\\',domain:\\'.daum.net\\'}),r=!0),!r&&0<u.length&&(i={toros_imp_id:window.atob(u),toros_file_hash_key:window.atob(g),toros_user_id_type:\"uuid\",toros_page_meta_id:p.contentUniqueKey,toros_event_meta_id:p.contentUniqueKey,toros_action_type:\"dwelltime\"})}catch(e){}y.trackUsage().actionKind(\"UsagePage\").pageMeta(f).usage(o).customProps(_.assignIn(p,i)).track()}};\"onpagehide\"in window?(window.addEventListener(\"pageshow\",e,!1),window.addEventListener(\"pagehide\",t,!1)):(window.addEventListener(\"load\",e,!1),window.addEventListener(\"unload\",t,!1)),document.addEventListener(\"visibilitychange\",function(){(document[\"hidden\"]?t:e)()},!1),document.addEventListener(\"mousedown\",function(e){var t,a,o,n,i,d,r=e.target,c=r.closest(\"[data-cloud]\"),s=r.closest(\"a\")||r.closest(\"button\")||r.closest(\\'div.selectionbox\\');s&&null!=c&&c.contains(s)&&((i=TiaraTracker.getClickInfo(e))&&(a=(null==(t=i.action)?void 0:t.name)||\"\",o=(null==t?void 0:t.kind)||\"\",n=_.assignIn(p,i.customProps),i=r.closest(\"[data-tiara]\"),r=s.querySelector(\"img\"),d=0,Array.from((c||i).querySelectorAll(\"a, button\")).map(function(e,t){e==s&&(d=t)}),e={layer1:m,layer2:c.dataset.cloud,layer3:(null==i?void 0:i.dataset.tiara)||\"\",click_url:s.href||\"\",ordnum:d,copy:s.classList.contains(\\'selectionbox\\')?null==t?void 0:t.name:s.innerText,image:(null==r?void 0:r.src)||\"\",posX:e.clientX,posY:e.clientY},y.trackEvent(a).pageMeta(f).actionKind(o).customProps(n).click(e).track()))})}})();</script>\\n </body>\\n</html>'"
      ]
     },
     "execution_count": 2,
     "metadata": {},
     "output_type": "execute_result"
    }
   ],
   "source": [
    "url = 'https://news.v.daum.net/v/20210327181307263'\n",
    "resp = requests.get(url)\n",
    "\n",
    "resp.text"
   ]
  },
  {
   "cell_type": "code",
   "execution_count": 3,
   "metadata": {},
   "outputs": [
    {
     "data": {
      "text/plain": [
       "'충북서 15명 확진..목욕탕·학원·교회 곳곳서 연쇄감염 속출'"
      ]
     },
     "execution_count": 3,
     "metadata": {},
     "output_type": "execute_result"
    }
   ],
   "source": [
    "url = 'https://news.v.daum.net/v/20210327181307263'\n",
    "resp = requests.get(url)\n",
    "\n",
    "soup = BeautifulSoup(resp.text)\n",
    "title = soup.find('h3', class_='tit_view')\n",
    "title.get_text()"
   ]
  },
  {
   "cell_type": "code",
   "execution_count": 4,
   "metadata": {},
   "outputs": [
    {
     "data": {
      "text/plain": [
       "<span class=\"txt_info\">입력 <span class=\"num_date\">2021. 03. 27. 18:13</span></span>"
      ]
     },
     "execution_count": 4,
     "metadata": {},
     "output_type": "execute_result"
    }
   ],
   "source": [
    "url = 'https://news.v.daum.net/v/20210327181307263'\n",
    "resp = requests.get(url)\n",
    "\n",
    "soup = BeautifulSoup(resp.text)\n",
    "soup.find_all('span', class_='txt_info')[0]\n",
    "soup.find_all('span', class_='txt_info')[1]"
   ]
  },
  {
   "cell_type": "code",
   "execution_count": 5,
   "metadata": {},
   "outputs": [
    {
     "data": {
      "text/plain": [
       "<span class=\"txt_info\">천경환</span>"
      ]
     },
     "execution_count": 5,
     "metadata": {},
     "output_type": "execute_result"
    }
   ],
   "source": [
    "url = 'https://news.v.daum.net/v/20210327181307263'\n",
    "resp = requests.get(url)\n",
    "\n",
    "soup = BeautifulSoup(resp.text)\n",
    "info = soup.find('span', class_='info_view')\n",
    "info.find('span', class_='txt_info')"
   ]
  },
  {
   "cell_type": "code",
   "execution_count": 6,
   "metadata": {},
   "outputs": [
    {
     "data": {
      "text/plain": [
       "'(청주=연합뉴스) 천경환 기자 = 27일 충북에서 신종 코로나바이러스 감염증(코로나19) 확진자 15명이 발생했다.충북도 등에 따르면 전날 밤부터 이날 오후 6시까지 청주 7명, 제천 3명, 충주·증평·진천·음성·괴산에서 각각 1명이 코로나19 확진 판정을 받았다.청주 확진자 7명 중 2명은 지난 24일 집단감염이 발생한 남자 핸드볼선수단 SK호크스 관련 감염 사례다. 기존 확진자의 접촉자인 20대도 이날 확진 판정을 받고, 전날 감염이 확인된 50대 요양보호사의 접촉자 2명도 확진됐다. 전날 양성 판정을 받은 고교생과 같은 학원에 다니는 2명도 이날 양성으로 나타났다.진천 확진자 또한 이 고교생과 같은 학원에 다니는 40대 강사다. 제천에서는 삼성목욕탕 관련 확진자와 접촉한 30대 A씨의 감염 사실이 확인됐다. A씨는 자가격리 해제 전 검사에서 양성판정을 받았다. 나머지 확진자 2명은 A씨의 가족이다.방역당국은 이들이 한 집에 머물면서 자가격리 수칙을 위반하지 않았는지를 조사하고 있다.증평과 괴산 확진자 2명은 전날 집단감염이 발생한 증평읍 소재 한 교회와 연관돼 있다. 이 교회에서는 지난 25일 20대 신도가 확진된 뒤 이튿날 그의 가족 3명을 포함, 25명이 무더기 감염됐다.이 교회 관련 확진자는 사흘 새 28명으로 늘었다.음성에서는 전날 선별진료소를 찾아 확진 판정을 받은 50대의 접촉자가 확진됐다.충주 확진자 1명은 다른 지역 확진자의 접촉자로 분류돼 자가격리 중 코로나19 의심 증상이 나타나 검사를 받은 뒤 확진됐다.이날 오후 6시 기준 충북지역 코로나19 누적 확진자는 2천128명이다.kw@yna.co.kr저작권자(c)연합뉴스. 무단전재-재배포금지'"
      ]
     },
     "execution_count": 6,
     "metadata": {},
     "output_type": "execute_result"
    }
   ],
   "source": [
    "url = 'https://news.v.daum.net/v/20210327181307263'\n",
    "resp = requests.get(url)\n",
    "\n",
    "soup = BeautifulSoup(resp.text)\n",
    "container = soup.find('div', id='harmonyContainer')\n",
    "contents = ''\n",
    "for p in container.find_all('p'):\n",
    "    contents += p.get_text()\n",
    "    \n",
    "contents"
   ]
  },
  {
   "cell_type": "markdown",
   "metadata": {},
   "source": [
    "* CSS를 이용하여 tag 찾기\n",
    " - select, select_one함수 사용 \n",
    " - css selector 사용법\n",
    "   - 태그명 찾기 tag \n",
    "   - 자손 태그 찾기 - 자손 관계 (tag tag)\n",
    "   - 자식 태그 찾기 - 다이렉트 자식 관계 (tag > tag)\n",
    "   - 아이디 찾기 #id\n",
    "   - 클래스 찾기 .class\n",
    "   - 속성값 찾기 [name='test']\n",
    "     - 속성값 prefix 찾기 [name ^='test']\n",
    "     - 속성값 suffix 찾기 [name $='test']\n",
    "     - 속성값 substring 찾기 [name *='test]\n",
    "   - n번째 자식 tag 찾기 :nth-child(n)"
   ]
  },
  {
   "cell_type": "code",
   "execution_count": 7,
   "metadata": {},
   "outputs": [
    {
     "data": {
      "text/plain": [
       "[<h3 class=\"tit_view\" data-translation=\"true\">충북서 15명 확진..목욕탕·학원·교회 곳곳서 연쇄감염 속출</h3>,\n",
       " <h3 class=\"tit_cp\">연합뉴스 주요 뉴스</h3>,\n",
       " <h3 class=\"txt_newsview\">많이본 뉴스</h3>,\n",
       " <h3 class=\"txt_newsview\">포토&amp;TV</h3>,\n",
       " <h3 class=\"txt_newsview\">이 시각 추천뉴스</h3>]"
      ]
     },
     "execution_count": 7,
     "metadata": {},
     "output_type": "execute_result"
    }
   ],
   "source": [
    "# 태그명 찾기\n",
    "url = 'https://news.v.daum.net/v/20210327181307263'\n",
    "resp = requests.get(url)\n",
    "\n",
    "soup = BeautifulSoup(resp.text)\n",
    "soup.select('h3')"
   ]
  },
  {
   "cell_type": "code",
   "execution_count": 8,
   "metadata": {},
   "outputs": [
    {
     "data": {
      "text/plain": [
       "[<p class=\"link_figure\"><img alt=\"증평스포츠센터에 설치된 선별진료소 (증평=연합뉴스) 27일 오후 충북 증평군 증평스포츠센터에 차려진 이동식 선별진료소에서 시민들이 검체 검사를 받기 위해 줄을 서 있다. 2021.3.27 [증평군 제공. 재판매 및 DB 금지]\" class=\"thumb_g_article\" data-org-src=\"https://t1.daumcdn.net/news/202103/27/yonhap/20210327181307369mtfq.jpg\" data-org-width=\"500\" dmcf-mid=\"csVS3GeqCE\" dmcf-mtype=\"image\" height=\"auto\" src=\"https://img4.daumcdn.net/thumb/R658x0.q70/?fname=https://t1.daumcdn.net/news/202103/27/yonhap/20210327181307369mtfq.jpg\" width=\"658\"/></p>,\n",
       " <p dmcf-pid=\"cztVxCCxMA\" dmcf-ptype=\"general\">(청주=연합뉴스) 천경환 기자 = 27일 충북에서 신종 코로나바이러스 감염증(코로나19) 확진자 15명이 발생했다.</p>,\n",
       " <p dmcf-pid=\"cnNJcX1qyJ\" dmcf-ptype=\"general\">충북도 등에 따르면 전날 밤부터 이날 오후 6시까지 청주 7명, 제천 3명, 충주·증평·진천·음성·괴산에서 각각 1명이 코로나19 확진 판정을 받았다.</p>,\n",
       " <p dmcf-pid=\"cqoObzgZmW\" dmcf-ptype=\"general\">청주 확진자 7명 중 2명은 지난 24일 집단감염이 발생한 남자 핸드볼선수단 SK호크스 관련 감염 사례다. </p>,\n",
       " <p dmcf-pid=\"ciOh2Wrgzd\" dmcf-ptype=\"general\">기존 확진자의 접촉자인 20대도 이날 확진 판정을 받고, 전날 감염이 확인된 50대 요양보호사의 접촉자 2명도 확진됐다. </p>,\n",
       " <p dmcf-pid=\"cLzOPFCUbO\" dmcf-ptype=\"general\">전날 양성 판정을 받은 고교생과 같은 학원에 다니는 2명도 이날 양성으로 나타났다.</p>,\n",
       " <p dmcf-pid=\"cLvUMxqry5\" dmcf-ptype=\"general\">진천 확진자 또한 이 고교생과 같은 학원에 다니는 40대 강사다. </p>,\n",
       " <p dmcf-pid=\"ceBfd3eyxF\" dmcf-ptype=\"general\">제천에서는 삼성목욕탕 관련 확진자와 접촉한 30대 A씨의 감염 사실이 확인됐다. </p>,\n",
       " <p dmcf-pid=\"cqdxOUTjKQ\" dmcf-ptype=\"general\">A씨는 자가격리 해제 전 검사에서 양성판정을 받았다. 나머지 확진자 2명은 A씨의 가족이다.</p>,\n",
       " <p dmcf-pid=\"caoCQhvWTk\" dmcf-ptype=\"general\">방역당국은 이들이 한 집에 머물면서 자가격리 수칙을 위반하지 않았는지를 조사하고 있다.</p>,\n",
       " <p dmcf-pid=\"cIXBwdRHhj\" dmcf-ptype=\"general\">증평과 괴산 확진자 2명은 전날 집단감염이 발생한 증평읍 소재 한 교회와 연관돼 있다. </p>,\n",
       " <p dmcf-pid=\"cvbj23fYgg\" dmcf-ptype=\"general\">이 교회에서는 지난 25일 20대 신도가 확진된 뒤 이튿날 그의 가족 3명을 포함, 25명이 무더기 감염됐다.</p>,\n",
       " <p dmcf-pid=\"cyxXxRknQ4\" dmcf-ptype=\"general\">이 교회 관련 확진자는 사흘 새 28명으로 늘었다.</p>,\n",
       " <p dmcf-pid=\"cs02P9qR2J\" dmcf-ptype=\"general\">음성에서는 전날 선별진료소를 찾아 확진 판정을 받은 50대의 접촉자가 확진됐다.</p>,\n",
       " <p dmcf-pid=\"ccpqj9alT0\" dmcf-ptype=\"general\">충주 확진자 1명은 다른 지역 확진자의 접촉자로 분류돼 자가격리 중 코로나19 의심 증상이 나타나 검사를 받은 뒤 확진됐다.</p>,\n",
       " <p dmcf-pid=\"cT3PY8Guov\" dmcf-ptype=\"general\">이날 오후 6시 기준 충북지역 코로나19 누적 확진자는 2천128명이다.</p>,\n",
       " <p dmcf-pid=\"ctJfzWMRs2\" dmcf-ptype=\"general\">kw@yna.co.kr</p>,\n",
       " <p data-translation=\"true\">저작권자(c)연합뉴스. 무단전재-재배포금지</p>]"
      ]
     },
     "execution_count": 8,
     "metadata": {},
     "output_type": "execute_result"
    }
   ],
   "source": [
    "# id 찾기\n",
    "soup.select('#harmonyContainer > p')\n",
    "soup.select('#harmonyContainer  p')"
   ]
  },
  {
   "cell_type": "code",
   "execution_count": 9,
   "metadata": {},
   "outputs": [
    {
     "data": {
      "text/plain": [
       "[<h3 class=\"tit_view\" data-translation=\"true\">충북서 15명 확진..목욕탕·학원·교회 곳곳서 연쇄감염 속출</h3>]"
      ]
     },
     "execution_count": 9,
     "metadata": {},
     "output_type": "execute_result"
    }
   ],
   "source": [
    "# 클래스 찾기\n",
    "soup.select('h3.tit_view')\n",
    "soup.select('.tit_view')"
   ]
  },
  {
   "cell_type": "code",
   "execution_count": 10,
   "metadata": {},
   "outputs": [
    {
     "data": {
      "text/plain": [
       "[<h3 class=\"tit_view\" data-translation=\"true\">충북서 15명 확진..목욕탕·학원·교회 곳곳서 연쇄감염 속출</h3>]"
      ]
     },
     "execution_count": 10,
     "metadata": {},
     "output_type": "execute_result"
    }
   ],
   "source": [
    "# 속성값 찾기\n",
    "soup.select('h3[class=\"tit_view\"]')"
   ]
  },
  {
   "cell_type": "code",
   "execution_count": 11,
   "metadata": {},
   "outputs": [
    {
     "data": {
      "text/plain": [
       "[<h3 class=\"txt_newsview\">많이본 뉴스</h3>,\n",
       " <h3 class=\"txt_newsview\">포토&amp;TV</h3>,\n",
       " <h3 class=\"txt_newsview\">이 시각 추천뉴스</h3>]"
      ]
     },
     "execution_count": 11,
     "metadata": {},
     "output_type": "execute_result"
    }
   ],
   "source": [
    "soup.select('h3[class^=\"t\"]')#시작 포함\n",
    "soup.select('h3[class^=\"tx\"]')"
   ]
  },
  {
   "cell_type": "code",
   "execution_count": 12,
   "metadata": {},
   "outputs": [
    {
     "data": {
      "text/plain": [
       "[<h3 class=\"tit_view\" data-translation=\"true\">충북서 15명 확진..목욕탕·학원·교회 곳곳서 연쇄감염 속출</h3>]"
      ]
     },
     "execution_count": 12,
     "metadata": {},
     "output_type": "execute_result"
    }
   ],
   "source": [
    "soup.select('h3[class$=\"view\"]')#마지막 포함\n",
    "soup.select('h3[class$=\"_view\"]')"
   ]
  },
  {
   "cell_type": "code",
   "execution_count": 13,
   "metadata": {},
   "outputs": [
    {
     "data": {
      "text/plain": [
       "[<h3 class=\"tit_view\" data-translation=\"true\">충북서 15명 확진..목욕탕·학원·교회 곳곳서 연쇄감염 속출</h3>,\n",
       " <h3 class=\"txt_newsview\">많이본 뉴스</h3>,\n",
       " <h3 class=\"txt_newsview\">포토&amp;TV</h3>,\n",
       " <h3 class=\"txt_newsview\">이 시각 추천뉴스</h3>]"
      ]
     },
     "execution_count": 13,
     "metadata": {},
     "output_type": "execute_result"
    }
   ],
   "source": [
    "soup.select('h3[class*=\"view\"]')#부분적 포함"
   ]
  },
  {
   "cell_type": "code",
   "execution_count": 14,
   "metadata": {},
   "outputs": [
    {
     "data": {
      "text/plain": [
       "[<span class=\"txt_info\">입력 <span class=\"num_date\">2021. 03. 27. 18:13</span></span>]"
      ]
     },
     "execution_count": 14,
     "metadata": {},
     "output_type": "execute_result"
    }
   ],
   "source": [
    "#n번째 자식 태그 찾기\n",
    "soup.select('span.txt_info:nth-child(1)')\n",
    "soup.select('span.txt_info:nth-child(2)')"
   ]
  },
  {
   "cell_type": "markdown",
   "metadata": {},
   "source": [
    "* 정규표현식으로 tag 찾기"
   ]
  },
  {
   "cell_type": "code",
   "execution_count": 15,
   "metadata": {},
   "outputs": [],
   "source": [
    "import re"
   ]
  },
  {
   "cell_type": "code",
   "execution_count": 16,
   "metadata": {},
   "outputs": [
    {
     "data": {
      "text/plain": [
       "[<h1> <a class=\"link_daum\" href=\"https://www.daum.net\"> <img alt=\"Daum\" class=\"thumb_g\" height=\"19\" src=\"//t1.daumcdn.net/media/news/news2016/retina/logo_daum.jpg\" width=\"45\"/> </a> <a href=\"//news.daum.net\" id=\"kakaoServiceLogo\"><span class=\"ir_wa\">뉴스</span></a> </h1>,\n",
       " <h2 class=\"screen_out\">검색</h2>,\n",
       " <h2 class=\"screen_out\">뉴스 메인메뉴</h2>,\n",
       " <h2 class=\"screen_out\" id=\"kakaoBody\">사회</h2>,\n",
       " <h3 class=\"tit_view\" data-translation=\"true\">충북서 15명 확진..목욕탕·학원·교회 곳곳서 연쇄감염 속출</h3>,\n",
       " <h4 class=\"screen_out\">기사 도구 모음</h4>,\n",
       " <h3 class=\"tit_cp\">연합뉴스 주요 뉴스</h3>,\n",
       " <h3 class=\"txt_newsview\">많이본 뉴스</h3>,\n",
       " <h3 class=\"txt_newsview\">포토&amp;TV</h3>,\n",
       " <h3 class=\"txt_newsview\">이 시각 추천뉴스</h3>,\n",
       " <h2 class=\"tit_direct\">바로가기</h2>,\n",
       " <h2 class=\"screen_out\">서비스 이용정보</h2>]"
      ]
     },
     "execution_count": 16,
     "metadata": {},
     "output_type": "execute_result"
    }
   ],
   "source": [
    "soup.find_all(re.compile('h\\d'))"
   ]
  },
  {
   "cell_type": "code",
   "execution_count": 17,
   "metadata": {},
   "outputs": [
    {
     "data": {
      "text/plain": [
       "[]"
      ]
     },
     "execution_count": 17,
     "metadata": {},
     "output_type": "execute_result"
    }
   ],
   "source": [
    "soup.find_all('img', attrs={'src': '.jpg'})"
   ]
  },
  {
   "cell_type": "code",
   "execution_count": 18,
   "metadata": {},
   "outputs": [
    {
     "data": {
      "text/plain": [
       "[<img alt=\"Daum\" class=\"thumb_g\" height=\"19\" src=\"//t1.daumcdn.net/media/news/news2016/retina/logo_daum.jpg\" width=\"45\"/>,\n",
       " <img alt=\"증평스포츠센터에 설치된 선별진료소 (증평=연합뉴스) 27일 오후 충북 증평군 증평스포츠센터에 차려진 이동식 선별진료소에서 시민들이 검체 검사를 받기 위해 줄을 서 있다. 2021.3.27 [증평군 제공. 재판매 및 DB 금지]\" class=\"thumb_g_article\" data-org-src=\"https://t1.daumcdn.net/news/202103/27/yonhap/20210327181307369mtfq.jpg\" data-org-width=\"500\" dmcf-mid=\"csVS3GeqCE\" dmcf-mtype=\"image\" height=\"auto\" src=\"https://img4.daumcdn.net/thumb/R658x0.q70/?fname=https://t1.daumcdn.net/news/202103/27/yonhap/20210327181307369mtfq.jpg\" width=\"658\"/>]"
      ]
     },
     "execution_count": 18,
     "metadata": {},
     "output_type": "execute_result"
    }
   ],
   "source": [
    "soup.find_all('img', attrs={'src': re.compile('.+\\.jpg')})"
   ]
  },
  {
   "cell_type": "code",
   "execution_count": 19,
   "metadata": {},
   "outputs": [
    {
     "data": {
      "text/plain": [
       "[<img alt=\"연합뉴스\" class=\"thumb_g\" src=\"https://t1.daumcdn.net/media/news/news2016/cp/cp_yonhap.gif\"/>]"
      ]
     },
     "execution_count": 19,
     "metadata": {},
     "output_type": "execute_result"
    }
   ],
   "source": [
    "soup.find_all('img', attrs={'src': re.compile('.+\\.gif')})"
   ]
  },
  {
   "cell_type": "code",
   "execution_count": 20,
   "metadata": {},
   "outputs": [
    {
     "data": {
      "text/plain": [
       "[]"
      ]
     },
     "execution_count": 20,
     "metadata": {},
     "output_type": "execute_result"
    }
   ],
   "source": [
    "soup.find_all('img', attrs={'src': re.compile('.+\\.png')})"
   ]
  },
  {
   "cell_type": "code",
   "execution_count": 21,
   "metadata": {},
   "outputs": [
    {
     "data": {
      "text/plain": [
       "[<h3 class=\"tit_view\" data-translation=\"true\">충북서 15명 확진..목욕탕·학원·교회 곳곳서 연쇄감염 속출</h3>]"
      ]
     },
     "execution_count": 21,
     "metadata": {},
     "output_type": "execute_result"
    }
   ],
   "source": [
    "soup.find_all('h3', class_='tit_view')\n"
   ]
  },
  {
   "cell_type": "code",
   "execution_count": 22,
   "metadata": {},
   "outputs": [
    {
     "data": {
      "text/plain": [
       "[<h3 class=\"tit_view\" data-translation=\"true\">충북서 15명 확진..목욕탕·학원·교회 곳곳서 연쇄감염 속출</h3>,\n",
       " <h3 class=\"txt_newsview\">많이본 뉴스</h3>,\n",
       " <h3 class=\"txt_newsview\">포토&amp;TV</h3>,\n",
       " <h3 class=\"txt_newsview\">이 시각 추천뉴스</h3>]"
      ]
     },
     "execution_count": 22,
     "metadata": {},
     "output_type": "execute_result"
    }
   ],
   "source": [
    "soup.find_all('h3', class_=re.compile('.+view$'))"
   ]
  },
  {
   "cell_type": "code",
   "execution_count": null,
   "metadata": {},
   "outputs": [],
   "source": []
  }
 ],
 "metadata": {
  "kernelspec": {
   "display_name": "Python 3",
   "language": "python",
   "name": "python3"
  },
  "language_info": {
   "codemirror_mode": {
    "name": "ipython",
    "version": 3
   },
   "file_extension": ".py",
   "mimetype": "text/x-python",
   "name": "python",
   "nbconvert_exporter": "python",
   "pygments_lexer": "ipython3",
   "version": "3.7.4"
  },
  "toc": {
   "base_numbering": 1,
   "nav_menu": {},
   "number_sections": true,
   "sideBar": true,
   "skip_h1_title": false,
   "title_cell": "Table of Contents",
   "title_sidebar": "Contents",
   "toc_cell": false,
   "toc_position": {},
   "toc_section_display": true,
   "toc_window_display": false
  },
  "varInspector": {
   "cols": {
    "lenName": 16,
    "lenType": 16,
    "lenVar": 40
   },
   "kernels_config": {
    "python": {
     "delete_cmd_postfix": "",
     "delete_cmd_prefix": "del ",
     "library": "var_list.py",
     "varRefreshCmd": "print(var_dic_list())"
    },
    "r": {
     "delete_cmd_postfix": ") ",
     "delete_cmd_prefix": "rm(",
     "library": "var_list.r",
     "varRefreshCmd": "cat(var_dic_list()) "
    }
   },
   "types_to_exclude": [
    "module",
    "function",
    "builtin_function_or_method",
    "instance",
    "_Feature"
   ],
   "window_display": false
  }
 },
 "nbformat": 4,
 "nbformat_minor": 2
}
